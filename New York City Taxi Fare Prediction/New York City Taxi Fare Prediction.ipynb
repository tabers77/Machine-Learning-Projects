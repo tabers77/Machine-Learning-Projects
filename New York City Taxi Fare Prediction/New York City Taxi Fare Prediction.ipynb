{
 "cells": [
  {
   "cell_type": "code",
   "execution_count": 1,
   "metadata": {},
   "outputs": [
    {
     "name": "stdout",
     "output_type": "stream",
     "text": [
      "/Users/Tabe/Desktop/Courses/Data-Science /Test-Projects/Machine-Learning-Projects/New York City Taxi Fare Prediction\r\n"
     ]
    }
   ],
   "source": [
    "! pwd"
   ]
  },
  {
   "cell_type": "code",
   "execution_count": 3,
   "metadata": {},
   "outputs": [
    {
     "name": "stdout",
     "output_type": "stream",
     "text": [
      "Already up to date.\n",
      "[main de6fca4] Last run on 2020-11-14 09:58:38.092825\n",
      " 1 file changed, 1 insertion(+), 1 deletion(-)\n",
      "error: src refspec master does not match any\n",
      "\u001b[31merror: failed to push some refs to 'https://github.com/tabers77/Machine-Learning-Projects.git'\n",
      "\u001b[mDone!\n"
     ]
    }
   ],
   "source": [
    "import datetime\n",
    "\n",
    "# 2 Pull request\n",
    "! git pull\n",
    "\n",
    "# 3\n",
    "now = datetime.datetime.now()\n",
    "commit_message = \"Last run on \" + str(now)\n",
    "! cd '/Users/Tabe/Desktop/Courses/Data-Science /Test-Projects/Machine-Learning-Projects/New York City Taxi Fare Prediction'\n",
    "! echo $commit_message > commit_message.txt\n",
    "! git add . \n",
    "! git commit -F commit_message.txt\n",
    "! git push origin master # here I choose either master or branch \n",
    "print ('Done!')"
   ]
  },
  {
   "cell_type": "code",
   "execution_count": null,
   "metadata": {},
   "outputs": [],
   "source": []
  }
 ],
 "metadata": {
  "kernelspec": {
   "display_name": "Python 3",
   "language": "python",
   "name": "python3"
  },
  "language_info": {
   "codemirror_mode": {
    "name": "ipython",
    "version": 3
   },
   "file_extension": ".py",
   "mimetype": "text/x-python",
   "name": "python",
   "nbconvert_exporter": "python",
   "pygments_lexer": "ipython3",
   "version": "3.7.5"
  }
 },
 "nbformat": 4,
 "nbformat_minor": 2
}
