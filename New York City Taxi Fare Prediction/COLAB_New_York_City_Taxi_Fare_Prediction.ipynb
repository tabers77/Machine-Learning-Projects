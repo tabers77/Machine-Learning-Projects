{
  "nbformat": 4,
  "nbformat_minor": 0,
  "metadata": {
    "kernelspec": {
      "display_name": "Python 3",
      "language": "python",
      "name": "python3"
    },
    "colab": {
      "name": "COLAB New York City Taxi Fare Prediction.ipynb",
      "provenance": [],
      "collapsed_sections": [
        "YIP7PNGzBvIb",
        "aBIieEpKBvId",
        "jkiE_1IqBvId",
        "FYxvAphVBvIe",
        "sEr5hLMMBvIe",
        "g9FM1N7_BvIe",
        "NvWUqMA6BvIe",
        "f-ZmneoM-6g8",
        "GnAuEJ8BBvIf",
        "Gs5a_lLfBvIf",
        "rDjwNm9KBvIg",
        "HyIDiHmKBvIg",
        "drljLHEZFCli",
        "D_gGmOwDWOY5"
      ],
      "toc_visible": true
    },
    "widgets": {
      "application/vnd.jupyter.widget-state+json": {
        "253ece52ea774d64b522815b0fe45cbc": {
          "model_module": "@jupyter-widgets/controls",
          "model_name": "HBoxModel",
          "state": {
            "_view_name": "HBoxView",
            "_dom_classes": [],
            "_model_name": "HBoxModel",
            "_view_module": "@jupyter-widgets/controls",
            "_model_module_version": "1.5.0",
            "_view_count": null,
            "_view_module_version": "1.5.0",
            "box_style": "",
            "layout": "IPY_MODEL_0a1e502a4f434e9a99f2dc07dabf0c9b",
            "_model_module": "@jupyter-widgets/controls",
            "children": [
              "IPY_MODEL_a86289bfe31c417abde8e9a03cf9ab65",
              "IPY_MODEL_5b968b7365574a2e85e7de6701232cbb"
            ]
          }
        },
        "0a1e502a4f434e9a99f2dc07dabf0c9b": {
          "model_module": "@jupyter-widgets/base",
          "model_name": "LayoutModel",
          "state": {
            "_view_name": "LayoutView",
            "grid_template_rows": null,
            "right": null,
            "justify_content": null,
            "_view_module": "@jupyter-widgets/base",
            "overflow": null,
            "_model_module_version": "1.2.0",
            "_view_count": null,
            "flex_flow": null,
            "width": null,
            "min_width": null,
            "border": null,
            "align_items": null,
            "bottom": null,
            "_model_module": "@jupyter-widgets/base",
            "top": null,
            "grid_column": null,
            "overflow_y": null,
            "overflow_x": null,
            "grid_auto_flow": null,
            "grid_area": null,
            "grid_template_columns": null,
            "flex": null,
            "_model_name": "LayoutModel",
            "justify_items": null,
            "grid_row": null,
            "max_height": null,
            "align_content": null,
            "visibility": null,
            "align_self": null,
            "height": null,
            "min_height": null,
            "padding": null,
            "grid_auto_rows": null,
            "grid_gap": null,
            "max_width": null,
            "order": null,
            "_view_module_version": "1.2.0",
            "grid_template_areas": null,
            "object_position": null,
            "object_fit": null,
            "grid_auto_columns": null,
            "margin": null,
            "display": null,
            "left": null
          }
        },
        "a86289bfe31c417abde8e9a03cf9ab65": {
          "model_module": "@jupyter-widgets/controls",
          "model_name": "FloatProgressModel",
          "state": {
            "_view_name": "ProgressView",
            "style": "IPY_MODEL_42679552eb5643629c363b66ebf55e4d",
            "_dom_classes": [],
            "description": "Optimization Progress: 100%",
            "_model_name": "FloatProgressModel",
            "bar_style": "",
            "max": 60,
            "_view_module": "@jupyter-widgets/controls",
            "_model_module_version": "1.5.0",
            "value": 60,
            "_view_count": null,
            "_view_module_version": "1.5.0",
            "orientation": "horizontal",
            "min": 0,
            "description_tooltip": null,
            "_model_module": "@jupyter-widgets/controls",
            "layout": "IPY_MODEL_ea2cb4efe386457f9c973e6750c6ed45"
          }
        },
        "5b968b7365574a2e85e7de6701232cbb": {
          "model_module": "@jupyter-widgets/controls",
          "model_name": "HTMLModel",
          "state": {
            "_view_name": "HTMLView",
            "style": "IPY_MODEL_a3628ec0769b4ed7844581d77be9e654",
            "_dom_classes": [],
            "description": "",
            "_model_name": "HTMLModel",
            "placeholder": "​",
            "_view_module": "@jupyter-widgets/controls",
            "_model_module_version": "1.5.0",
            "value": " 60/60 [12:22&lt;00:00, 18.13s/pipeline]",
            "_view_count": null,
            "_view_module_version": "1.5.0",
            "description_tooltip": null,
            "_model_module": "@jupyter-widgets/controls",
            "layout": "IPY_MODEL_65b5a9a5bb854ba6877f5816ffd18c9c"
          }
        },
        "42679552eb5643629c363b66ebf55e4d": {
          "model_module": "@jupyter-widgets/controls",
          "model_name": "ProgressStyleModel",
          "state": {
            "_view_name": "StyleView",
            "_model_name": "ProgressStyleModel",
            "description_width": "initial",
            "_view_module": "@jupyter-widgets/base",
            "_model_module_version": "1.5.0",
            "_view_count": null,
            "_view_module_version": "1.2.0",
            "bar_color": null,
            "_model_module": "@jupyter-widgets/controls"
          }
        },
        "ea2cb4efe386457f9c973e6750c6ed45": {
          "model_module": "@jupyter-widgets/base",
          "model_name": "LayoutModel",
          "state": {
            "_view_name": "LayoutView",
            "grid_template_rows": null,
            "right": null,
            "justify_content": null,
            "_view_module": "@jupyter-widgets/base",
            "overflow": null,
            "_model_module_version": "1.2.0",
            "_view_count": null,
            "flex_flow": null,
            "width": null,
            "min_width": null,
            "border": null,
            "align_items": null,
            "bottom": null,
            "_model_module": "@jupyter-widgets/base",
            "top": null,
            "grid_column": null,
            "overflow_y": null,
            "overflow_x": null,
            "grid_auto_flow": null,
            "grid_area": null,
            "grid_template_columns": null,
            "flex": null,
            "_model_name": "LayoutModel",
            "justify_items": null,
            "grid_row": null,
            "max_height": null,
            "align_content": null,
            "visibility": null,
            "align_self": null,
            "height": null,
            "min_height": null,
            "padding": null,
            "grid_auto_rows": null,
            "grid_gap": null,
            "max_width": null,
            "order": null,
            "_view_module_version": "1.2.0",
            "grid_template_areas": null,
            "object_position": null,
            "object_fit": null,
            "grid_auto_columns": null,
            "margin": null,
            "display": null,
            "left": null
          }
        },
        "a3628ec0769b4ed7844581d77be9e654": {
          "model_module": "@jupyter-widgets/controls",
          "model_name": "DescriptionStyleModel",
          "state": {
            "_view_name": "StyleView",
            "_model_name": "DescriptionStyleModel",
            "description_width": "",
            "_view_module": "@jupyter-widgets/base",
            "_model_module_version": "1.5.0",
            "_view_count": null,
            "_view_module_version": "1.2.0",
            "_model_module": "@jupyter-widgets/controls"
          }
        },
        "65b5a9a5bb854ba6877f5816ffd18c9c": {
          "model_module": "@jupyter-widgets/base",
          "model_name": "LayoutModel",
          "state": {
            "_view_name": "LayoutView",
            "grid_template_rows": null,
            "right": null,
            "justify_content": null,
            "_view_module": "@jupyter-widgets/base",
            "overflow": null,
            "_model_module_version": "1.2.0",
            "_view_count": null,
            "flex_flow": null,
            "width": null,
            "min_width": null,
            "border": null,
            "align_items": null,
            "bottom": null,
            "_model_module": "@jupyter-widgets/base",
            "top": null,
            "grid_column": null,
            "overflow_y": null,
            "overflow_x": null,
            "grid_auto_flow": null,
            "grid_area": null,
            "grid_template_columns": null,
            "flex": null,
            "_model_name": "LayoutModel",
            "justify_items": null,
            "grid_row": null,
            "max_height": null,
            "align_content": null,
            "visibility": null,
            "align_self": null,
            "height": null,
            "min_height": null,
            "padding": null,
            "grid_auto_rows": null,
            "grid_gap": null,
            "max_width": null,
            "order": null,
            "_view_module_version": "1.2.0",
            "grid_template_areas": null,
            "object_position": null,
            "object_fit": null,
            "grid_auto_columns": null,
            "margin": null,
            "display": null,
            "left": null
          }
        }
      }
    }
  },
  "cells": [
    {
      "cell_type": "markdown",
      "metadata": {
        "id": "qxVmPtItBvIb"
      },
      "source": [
        "# Description\n",
        "In this playground competition, hosted in partnership with Google Cloud and Coursera, you are tasked with predicting the fare amount (inclusive of tolls) for a taxi ride in New York City given the pickup and dropoff locations. While you can get a basic estimate based on just the distance between the two points, this will result in an RMSE of $5-$8, depending on the model used (see the starter code for an example of this approach in Kernels). Your challenge is to do better than this using Machine Learning techniques!"
      ]
    },
    {
      "cell_type": "markdown",
      "metadata": {
        "id": "YIP7PNGzBvIb"
      },
      "source": [
        "# 0. Starter\n"
      ]
    },
    {
      "cell_type": "code",
      "metadata": {
        "id": "-LfKK6D0BvIb"
      },
      "source": [
        "# Dependecies\n",
        "\n",
        "import pandas as pd\n",
        "import datetime \n",
        "import numpy as np\n",
        "import seaborn as sns\n",
        "from matplotlib import pyplot as plt, rcParams\n",
        "\n",
        "# Set a standard size and style\n",
        "sns.set_style('whitegrid') \n",
        "rcParams['figure.figsize'] = (6, 4) # define plot sizes "
      ],
      "execution_count": 39,
      "outputs": []
    },
    {
      "cell_type": "code",
      "metadata": {
        "id": "4E6icMwfBvIc"
      },
      "source": [
        "# We will take a sample of our dataset\n",
        "\n",
        "url = 'https://raw.githubusercontent.com/krishnaik06/NYC-Taxi-Fares-Prediction/master/taxifare.csv'\n",
        "\n",
        "data = pd.read_csv(url)"
      ],
      "execution_count": 40,
      "outputs": []
    },
    {
      "cell_type": "code",
      "metadata": {
        "id": "MMZOvjGIBvIc",
        "colab": {
          "base_uri": "https://localhost:8080/",
          "height": 204
        },
        "outputId": "f4fbc9e3-ac71-4caa-db27-067d1483cc25"
      },
      "source": [
        "data.head()"
      ],
      "execution_count": 41,
      "outputs": [
        {
          "output_type": "execute_result",
          "data": {
            "text/html": [
              "<div>\n",
              "<style scoped>\n",
              "    .dataframe tbody tr th:only-of-type {\n",
              "        vertical-align: middle;\n",
              "    }\n",
              "\n",
              "    .dataframe tbody tr th {\n",
              "        vertical-align: top;\n",
              "    }\n",
              "\n",
              "    .dataframe thead th {\n",
              "        text-align: right;\n",
              "    }\n",
              "</style>\n",
              "<table border=\"1\" class=\"dataframe\">\n",
              "  <thead>\n",
              "    <tr style=\"text-align: right;\">\n",
              "      <th></th>\n",
              "      <th>pickup_datetime</th>\n",
              "      <th>fare_amount</th>\n",
              "      <th>fare_class</th>\n",
              "      <th>pickup_longitude</th>\n",
              "      <th>pickup_latitude</th>\n",
              "      <th>dropoff_longitude</th>\n",
              "      <th>dropoff_latitude</th>\n",
              "      <th>passenger_count</th>\n",
              "    </tr>\n",
              "  </thead>\n",
              "  <tbody>\n",
              "    <tr>\n",
              "      <th>0</th>\n",
              "      <td>2010-04-19 08:17:56 UTC</td>\n",
              "      <td>6.5</td>\n",
              "      <td>0</td>\n",
              "      <td>-73.992365</td>\n",
              "      <td>40.730521</td>\n",
              "      <td>-73.975499</td>\n",
              "      <td>40.744746</td>\n",
              "      <td>1</td>\n",
              "    </tr>\n",
              "    <tr>\n",
              "      <th>1</th>\n",
              "      <td>2010-04-17 15:43:53 UTC</td>\n",
              "      <td>6.9</td>\n",
              "      <td>0</td>\n",
              "      <td>-73.990078</td>\n",
              "      <td>40.740558</td>\n",
              "      <td>-73.974232</td>\n",
              "      <td>40.744114</td>\n",
              "      <td>1</td>\n",
              "    </tr>\n",
              "    <tr>\n",
              "      <th>2</th>\n",
              "      <td>2010-04-17 11:23:26 UTC</td>\n",
              "      <td>10.1</td>\n",
              "      <td>1</td>\n",
              "      <td>-73.994149</td>\n",
              "      <td>40.751118</td>\n",
              "      <td>-73.960064</td>\n",
              "      <td>40.766235</td>\n",
              "      <td>2</td>\n",
              "    </tr>\n",
              "    <tr>\n",
              "      <th>3</th>\n",
              "      <td>2010-04-11 21:25:03 UTC</td>\n",
              "      <td>8.9</td>\n",
              "      <td>0</td>\n",
              "      <td>-73.990485</td>\n",
              "      <td>40.756422</td>\n",
              "      <td>-73.971205</td>\n",
              "      <td>40.748192</td>\n",
              "      <td>1</td>\n",
              "    </tr>\n",
              "    <tr>\n",
              "      <th>4</th>\n",
              "      <td>2010-04-17 02:19:01 UTC</td>\n",
              "      <td>19.7</td>\n",
              "      <td>1</td>\n",
              "      <td>-73.990976</td>\n",
              "      <td>40.734202</td>\n",
              "      <td>-73.905956</td>\n",
              "      <td>40.743115</td>\n",
              "      <td>1</td>\n",
              "    </tr>\n",
              "  </tbody>\n",
              "</table>\n",
              "</div>"
            ],
            "text/plain": [
              "           pickup_datetime  fare_amount  ...  dropoff_latitude  passenger_count\n",
              "0  2010-04-19 08:17:56 UTC          6.5  ...         40.744746                1\n",
              "1  2010-04-17 15:43:53 UTC          6.9  ...         40.744114                1\n",
              "2  2010-04-17 11:23:26 UTC         10.1  ...         40.766235                2\n",
              "3  2010-04-11 21:25:03 UTC          8.9  ...         40.748192                1\n",
              "4  2010-04-17 02:19:01 UTC         19.7  ...         40.743115                1\n",
              "\n",
              "[5 rows x 8 columns]"
            ]
          },
          "metadata": {
            "tags": []
          },
          "execution_count": 41
        }
      ]
    },
    {
      "cell_type": "code",
      "metadata": {
        "colab": {
          "base_uri": "https://localhost:8080/"
        },
        "id": "08YQLPAP9tdY",
        "outputId": "13c49172-a387-41f9-81b7-1daa4c806176"
      },
      "source": [
        "# Observe the size of the records \n",
        "data.shape\n",
        "(120000, 8)"
      ],
      "execution_count": 42,
      "outputs": [
        {
          "output_type": "execute_result",
          "data": {
            "text/plain": [
              "(120000, 8)"
            ]
          },
          "metadata": {
            "tags": []
          },
          "execution_count": 42
        }
      ]
    },
    {
      "cell_type": "code",
      "metadata": {
        "id": "5_Orvvl6VRF9"
      },
      "source": [
        "# My utc is 5  hours ahead NY and therefore I substract 5 hours \n",
        "\n",
        "df = data.sample(n = 5000) # I will generetate a random sample of 1000 records everytime \n",
        "\n",
        "df['pickup_datetime'] = pd.to_datetime(df['pickup_datetime']) - datetime.timedelta(hours=5)"
      ],
      "execution_count": 43,
      "outputs": []
    },
    {
      "cell_type": "code",
      "metadata": {
        "colab": {
          "base_uri": "https://localhost:8080/"
        },
        "id": "QmixYuXiO1YV",
        "outputId": "cd059b1f-ae7c-4105-deb7-5060e1cc26f6"
      },
      "source": [
        "df.shape"
      ],
      "execution_count": 44,
      "outputs": [
        {
          "output_type": "execute_result",
          "data": {
            "text/plain": [
              "(5000, 8)"
            ]
          },
          "metadata": {
            "tags": []
          },
          "execution_count": 44
        }
      ]
    },
    {
      "cell_type": "code",
      "metadata": {
        "colab": {
          "base_uri": "https://localhost:8080/",
          "height": 204
        },
        "id": "xBzpHWY8VSZl",
        "outputId": "f92f520a-ce4c-433c-8e00-a55b39561d2a"
      },
      "source": [
        "df.head()"
      ],
      "execution_count": 45,
      "outputs": [
        {
          "output_type": "execute_result",
          "data": {
            "text/html": [
              "<div>\n",
              "<style scoped>\n",
              "    .dataframe tbody tr th:only-of-type {\n",
              "        vertical-align: middle;\n",
              "    }\n",
              "\n",
              "    .dataframe tbody tr th {\n",
              "        vertical-align: top;\n",
              "    }\n",
              "\n",
              "    .dataframe thead th {\n",
              "        text-align: right;\n",
              "    }\n",
              "</style>\n",
              "<table border=\"1\" class=\"dataframe\">\n",
              "  <thead>\n",
              "    <tr style=\"text-align: right;\">\n",
              "      <th></th>\n",
              "      <th>pickup_datetime</th>\n",
              "      <th>fare_amount</th>\n",
              "      <th>fare_class</th>\n",
              "      <th>pickup_longitude</th>\n",
              "      <th>pickup_latitude</th>\n",
              "      <th>dropoff_longitude</th>\n",
              "      <th>dropoff_latitude</th>\n",
              "      <th>passenger_count</th>\n",
              "    </tr>\n",
              "  </thead>\n",
              "  <tbody>\n",
              "    <tr>\n",
              "      <th>34310</th>\n",
              "      <td>2010-04-23 09:45:48+00:00</td>\n",
              "      <td>13.3</td>\n",
              "      <td>1</td>\n",
              "      <td>-74.005015</td>\n",
              "      <td>40.751491</td>\n",
              "      <td>-73.973722</td>\n",
              "      <td>40.763886</td>\n",
              "      <td>2</td>\n",
              "    </tr>\n",
              "    <tr>\n",
              "      <th>88856</th>\n",
              "      <td>2010-04-11 14:05:01+00:00</td>\n",
              "      <td>7.7</td>\n",
              "      <td>0</td>\n",
              "      <td>-74.001410</td>\n",
              "      <td>40.730970</td>\n",
              "      <td>-73.771457</td>\n",
              "      <td>40.716523</td>\n",
              "      <td>3</td>\n",
              "    </tr>\n",
              "    <tr>\n",
              "      <th>23100</th>\n",
              "      <td>2010-04-23 23:30:06+00:00</td>\n",
              "      <td>3.3</td>\n",
              "      <td>0</td>\n",
              "      <td>-73.982182</td>\n",
              "      <td>40.778576</td>\n",
              "      <td>-73.982332</td>\n",
              "      <td>40.774121</td>\n",
              "      <td>1</td>\n",
              "    </tr>\n",
              "    <tr>\n",
              "      <th>66661</th>\n",
              "      <td>2010-04-13 08:47:07+00:00</td>\n",
              "      <td>8.5</td>\n",
              "      <td>0</td>\n",
              "      <td>-73.981904</td>\n",
              "      <td>40.766528</td>\n",
              "      <td>-74.003434</td>\n",
              "      <td>40.749138</td>\n",
              "      <td>2</td>\n",
              "    </tr>\n",
              "    <tr>\n",
              "      <th>6317</th>\n",
              "      <td>2010-04-23 03:41:00+00:00</td>\n",
              "      <td>5.3</td>\n",
              "      <td>0</td>\n",
              "      <td>-73.959575</td>\n",
              "      <td>40.774102</td>\n",
              "      <td>-73.970382</td>\n",
              "      <td>40.761723</td>\n",
              "      <td>1</td>\n",
              "    </tr>\n",
              "  </tbody>\n",
              "</table>\n",
              "</div>"
            ],
            "text/plain": [
              "                pickup_datetime  fare_amount  ...  dropoff_latitude  passenger_count\n",
              "34310 2010-04-23 09:45:48+00:00         13.3  ...         40.763886                2\n",
              "88856 2010-04-11 14:05:01+00:00          7.7  ...         40.716523                3\n",
              "23100 2010-04-23 23:30:06+00:00          3.3  ...         40.774121                1\n",
              "66661 2010-04-13 08:47:07+00:00          8.5  ...         40.749138                2\n",
              "6317  2010-04-23 03:41:00+00:00          5.3  ...         40.761723                1\n",
              "\n",
              "[5 rows x 8 columns]"
            ]
          },
          "metadata": {
            "tags": []
          },
          "execution_count": 45
        }
      ]
    },
    {
      "cell_type": "markdown",
      "metadata": {
        "id": "aBIieEpKBvId"
      },
      "source": [
        "# 1. Feature engineering"
      ]
    },
    {
      "cell_type": "code",
      "metadata": {
        "id": "N8wQck0KBvId"
      },
      "source": [
        "# Generat new date features\n",
        "df['Month']=df['pickup_datetime'].dt.month\n",
        "df['Day']=df['pickup_datetime'].dt.day\n",
        "df['Hours']=df['pickup_datetime'].dt.hour\n",
        "df['Minutes']=df['pickup_datetime'].dt.minute\n",
        "df['Day of week']=df['pickup_datetime'].dt.dayofweek"
      ],
      "execution_count": 46,
      "outputs": []
    },
    {
      "cell_type": "code",
      "metadata": {
        "id": "FZ_aA5NMBvId"
      },
      "source": [
        "# Create a column to specify morning and night \n",
        "df['morning_night']=np.where(df['Hours']<12,0,1)\n",
        "\n",
        "# Drop pickup datetime\n",
        "df.drop('pickup_datetime',axis=1,inplace=True)"
      ],
      "execution_count": 47,
      "outputs": []
    },
    {
      "cell_type": "code",
      "metadata": {
        "id": "c9YEiC-lBvId",
        "colab": {
          "base_uri": "https://localhost:8080/",
          "height": 258
        },
        "outputId": "c65f8352-3b27-44fe-dd0b-8cf4b67287a9"
      },
      "source": [
        "# Check our df\n",
        "df.head()"
      ],
      "execution_count": 48,
      "outputs": [
        {
          "output_type": "execute_result",
          "data": {
            "text/html": [
              "<div>\n",
              "<style scoped>\n",
              "    .dataframe tbody tr th:only-of-type {\n",
              "        vertical-align: middle;\n",
              "    }\n",
              "\n",
              "    .dataframe tbody tr th {\n",
              "        vertical-align: top;\n",
              "    }\n",
              "\n",
              "    .dataframe thead th {\n",
              "        text-align: right;\n",
              "    }\n",
              "</style>\n",
              "<table border=\"1\" class=\"dataframe\">\n",
              "  <thead>\n",
              "    <tr style=\"text-align: right;\">\n",
              "      <th></th>\n",
              "      <th>fare_amount</th>\n",
              "      <th>fare_class</th>\n",
              "      <th>pickup_longitude</th>\n",
              "      <th>pickup_latitude</th>\n",
              "      <th>dropoff_longitude</th>\n",
              "      <th>dropoff_latitude</th>\n",
              "      <th>passenger_count</th>\n",
              "      <th>Month</th>\n",
              "      <th>Day</th>\n",
              "      <th>Hours</th>\n",
              "      <th>Minutes</th>\n",
              "      <th>Day of week</th>\n",
              "      <th>morning_night</th>\n",
              "    </tr>\n",
              "  </thead>\n",
              "  <tbody>\n",
              "    <tr>\n",
              "      <th>34310</th>\n",
              "      <td>13.3</td>\n",
              "      <td>1</td>\n",
              "      <td>-74.005015</td>\n",
              "      <td>40.751491</td>\n",
              "      <td>-73.973722</td>\n",
              "      <td>40.763886</td>\n",
              "      <td>2</td>\n",
              "      <td>4</td>\n",
              "      <td>23</td>\n",
              "      <td>9</td>\n",
              "      <td>45</td>\n",
              "      <td>4</td>\n",
              "      <td>0</td>\n",
              "    </tr>\n",
              "    <tr>\n",
              "      <th>88856</th>\n",
              "      <td>7.7</td>\n",
              "      <td>0</td>\n",
              "      <td>-74.001410</td>\n",
              "      <td>40.730970</td>\n",
              "      <td>-73.771457</td>\n",
              "      <td>40.716523</td>\n",
              "      <td>3</td>\n",
              "      <td>4</td>\n",
              "      <td>11</td>\n",
              "      <td>14</td>\n",
              "      <td>5</td>\n",
              "      <td>6</td>\n",
              "      <td>1</td>\n",
              "    </tr>\n",
              "    <tr>\n",
              "      <th>23100</th>\n",
              "      <td>3.3</td>\n",
              "      <td>0</td>\n",
              "      <td>-73.982182</td>\n",
              "      <td>40.778576</td>\n",
              "      <td>-73.982332</td>\n",
              "      <td>40.774121</td>\n",
              "      <td>1</td>\n",
              "      <td>4</td>\n",
              "      <td>23</td>\n",
              "      <td>23</td>\n",
              "      <td>30</td>\n",
              "      <td>4</td>\n",
              "      <td>1</td>\n",
              "    </tr>\n",
              "    <tr>\n",
              "      <th>66661</th>\n",
              "      <td>8.5</td>\n",
              "      <td>0</td>\n",
              "      <td>-73.981904</td>\n",
              "      <td>40.766528</td>\n",
              "      <td>-74.003434</td>\n",
              "      <td>40.749138</td>\n",
              "      <td>2</td>\n",
              "      <td>4</td>\n",
              "      <td>13</td>\n",
              "      <td>8</td>\n",
              "      <td>47</td>\n",
              "      <td>1</td>\n",
              "      <td>0</td>\n",
              "    </tr>\n",
              "    <tr>\n",
              "      <th>6317</th>\n",
              "      <td>5.3</td>\n",
              "      <td>0</td>\n",
              "      <td>-73.959575</td>\n",
              "      <td>40.774102</td>\n",
              "      <td>-73.970382</td>\n",
              "      <td>40.761723</td>\n",
              "      <td>1</td>\n",
              "      <td>4</td>\n",
              "      <td>23</td>\n",
              "      <td>3</td>\n",
              "      <td>41</td>\n",
              "      <td>4</td>\n",
              "      <td>0</td>\n",
              "    </tr>\n",
              "  </tbody>\n",
              "</table>\n",
              "</div>"
            ],
            "text/plain": [
              "       fare_amount  fare_class  ...  Day of week  morning_night\n",
              "34310         13.3           1  ...            4              0\n",
              "88856          7.7           0  ...            6              1\n",
              "23100          3.3           0  ...            4              1\n",
              "66661          8.5           0  ...            1              0\n",
              "6317           5.3           0  ...            4              0\n",
              "\n",
              "[5 rows x 13 columns]"
            ]
          },
          "metadata": {
            "tags": []
          },
          "execution_count": 48
        }
      ]
    },
    {
      "cell_type": "markdown",
      "metadata": {
        "id": "PanqcRAYBvId"
      },
      "source": [
        "**Calculating Haversine distance** "
      ]
    },
    {
      "cell_type": "code",
      "metadata": {
        "id": "9emItfazBvId",
        "colab": {
          "base_uri": "https://localhost:8080/"
        },
        "outputId": "999f34de-7ac2-438b-af59-e244ce6d4062"
      },
      "source": [
        "# Calculating Haversine distance\n",
        "\n",
        "from sklearn.metrics.pairwise import haversine_distances\n",
        "from math import radians\n",
        "newdelhi = [28.6139, 77.2090]\n",
        "bangalore = [12.9716, 77.5946]\n",
        "\n",
        "newdelhi_in_radians = [radians(_) for _ in newdelhi]\n",
        "bangalore_in_radians = [radians(_) for _ in bangalore]\n",
        "\n",
        "result = haversine_distances([newdelhi_in_radians, bangalore_in_radians])\n",
        "result*6371"
      ],
      "execution_count": 49,
      "outputs": [
        {
          "output_type": "execute_result",
          "data": {
            "text/plain": [
              "array([[   0.       , 1739.8021019],\n",
              "       [1739.8021019,    0.       ]])"
            ]
          },
          "metadata": {
            "tags": []
          },
          "execution_count": 49
        }
      ]
    },
    {
      "cell_type": "code",
      "metadata": {
        "id": "TB9EXqt5BvId",
        "colab": {
          "base_uri": "https://localhost:8080/"
        },
        "outputId": "f33d12c8-0436-4e6e-b32b-75b5951260e5"
      },
      "source": [
        "np.radians(df['dropoff_latitude']-df[\"pickup_latitude\"])"
      ],
      "execution_count": 50,
      "outputs": [
        {
          "output_type": "execute_result",
          "data": {
            "text/plain": [
              "34310    0.000216\n",
              "88856   -0.000252\n",
              "23100   -0.000078\n",
              "66661   -0.000304\n",
              "6317    -0.000216\n",
              "           ...   \n",
              "9115     0.000113\n",
              "1041    -0.000889\n",
              "37910   -0.000302\n",
              "77300   -0.000330\n",
              "18482    0.000721\n",
              "Length: 5000, dtype: float64"
            ]
          },
          "metadata": {
            "tags": []
          },
          "execution_count": 50
        }
      ]
    },
    {
      "cell_type": "code",
      "metadata": {
        "id": "_qtLIzTDBvId"
      },
      "source": [
        "# Create a function to calculate haversine distance \n",
        "def haversine(df):\n",
        "    \"\"\"\n",
        "    Calculate the great circle distance between two points \n",
        "    on the earth (specified in decimal degrees)\n",
        "    \"\"\"\n",
        "    lat1= np.radians(df[\"pickup_latitude\"])\n",
        "    lat2 = np.radians(df[\"dropoff_latitude\"])\n",
        "    #### Based on the formula  x1=drop_lat,x2=dropoff_long \n",
        "    dlat = np.radians(df['dropoff_latitude']-df[\"pickup_latitude\"])\n",
        "    dlong = np.radians(df[\"dropoff_longitude\"]-df[\"pickup_longitude\"])\n",
        "    a = np.sin(dlat/2)**2 + np.cos(lat1) * np.cos(lat2) * np.sin(dlong/2)**2\n",
        "\n",
        "    c = 2 * np.arctan2(np.sqrt(a), np.sqrt(1-a))\n",
        "    r = 6371 # Radius of earth in kilometers. Use 3956 for miles\n",
        "    return c * r"
      ],
      "execution_count": 51,
      "outputs": []
    },
    {
      "cell_type": "code",
      "metadata": {
        "id": "25GpfPxmBvId"
      },
      "source": [
        "df['total_distance']= haversine(df)"
      ],
      "execution_count": 52,
      "outputs": []
    },
    {
      "cell_type": "code",
      "metadata": {
        "id": "zVCI7ep0BvId",
        "colab": {
          "base_uri": "https://localhost:8080/",
          "height": 258
        },
        "outputId": "8427e8b6-6870-4258-933c-772d6e48380c"
      },
      "source": [
        "df.head()"
      ],
      "execution_count": 53,
      "outputs": [
        {
          "output_type": "execute_result",
          "data": {
            "text/html": [
              "<div>\n",
              "<style scoped>\n",
              "    .dataframe tbody tr th:only-of-type {\n",
              "        vertical-align: middle;\n",
              "    }\n",
              "\n",
              "    .dataframe tbody tr th {\n",
              "        vertical-align: top;\n",
              "    }\n",
              "\n",
              "    .dataframe thead th {\n",
              "        text-align: right;\n",
              "    }\n",
              "</style>\n",
              "<table border=\"1\" class=\"dataframe\">\n",
              "  <thead>\n",
              "    <tr style=\"text-align: right;\">\n",
              "      <th></th>\n",
              "      <th>fare_amount</th>\n",
              "      <th>fare_class</th>\n",
              "      <th>pickup_longitude</th>\n",
              "      <th>pickup_latitude</th>\n",
              "      <th>dropoff_longitude</th>\n",
              "      <th>dropoff_latitude</th>\n",
              "      <th>passenger_count</th>\n",
              "      <th>Month</th>\n",
              "      <th>Day</th>\n",
              "      <th>Hours</th>\n",
              "      <th>Minutes</th>\n",
              "      <th>Day of week</th>\n",
              "      <th>morning_night</th>\n",
              "      <th>total_distance</th>\n",
              "    </tr>\n",
              "  </thead>\n",
              "  <tbody>\n",
              "    <tr>\n",
              "      <th>34310</th>\n",
              "      <td>13.3</td>\n",
              "      <td>1</td>\n",
              "      <td>-74.005015</td>\n",
              "      <td>40.751491</td>\n",
              "      <td>-73.973722</td>\n",
              "      <td>40.763886</td>\n",
              "      <td>2</td>\n",
              "      <td>4</td>\n",
              "      <td>23</td>\n",
              "      <td>9</td>\n",
              "      <td>45</td>\n",
              "      <td>4</td>\n",
              "      <td>0</td>\n",
              "      <td>2.974341</td>\n",
              "    </tr>\n",
              "    <tr>\n",
              "      <th>88856</th>\n",
              "      <td>7.7</td>\n",
              "      <td>0</td>\n",
              "      <td>-74.001410</td>\n",
              "      <td>40.730970</td>\n",
              "      <td>-73.771457</td>\n",
              "      <td>40.716523</td>\n",
              "      <td>3</td>\n",
              "      <td>4</td>\n",
              "      <td>11</td>\n",
              "      <td>14</td>\n",
              "      <td>5</td>\n",
              "      <td>6</td>\n",
              "      <td>1</td>\n",
              "      <td>19.444751</td>\n",
              "    </tr>\n",
              "    <tr>\n",
              "      <th>23100</th>\n",
              "      <td>3.3</td>\n",
              "      <td>0</td>\n",
              "      <td>-73.982182</td>\n",
              "      <td>40.778576</td>\n",
              "      <td>-73.982332</td>\n",
              "      <td>40.774121</td>\n",
              "      <td>1</td>\n",
              "      <td>4</td>\n",
              "      <td>23</td>\n",
              "      <td>23</td>\n",
              "      <td>30</td>\n",
              "      <td>4</td>\n",
              "      <td>1</td>\n",
              "      <td>0.495534</td>\n",
              "    </tr>\n",
              "    <tr>\n",
              "      <th>66661</th>\n",
              "      <td>8.5</td>\n",
              "      <td>0</td>\n",
              "      <td>-73.981904</td>\n",
              "      <td>40.766528</td>\n",
              "      <td>-74.003434</td>\n",
              "      <td>40.749138</td>\n",
              "      <td>2</td>\n",
              "      <td>4</td>\n",
              "      <td>13</td>\n",
              "      <td>8</td>\n",
              "      <td>47</td>\n",
              "      <td>1</td>\n",
              "      <td>0</td>\n",
              "      <td>2.650962</td>\n",
              "    </tr>\n",
              "    <tr>\n",
              "      <th>6317</th>\n",
              "      <td>5.3</td>\n",
              "      <td>0</td>\n",
              "      <td>-73.959575</td>\n",
              "      <td>40.774102</td>\n",
              "      <td>-73.970382</td>\n",
              "      <td>40.761723</td>\n",
              "      <td>1</td>\n",
              "      <td>4</td>\n",
              "      <td>23</td>\n",
              "      <td>3</td>\n",
              "      <td>41</td>\n",
              "      <td>4</td>\n",
              "      <td>0</td>\n",
              "      <td>1.650151</td>\n",
              "    </tr>\n",
              "  </tbody>\n",
              "</table>\n",
              "</div>"
            ],
            "text/plain": [
              "       fare_amount  fare_class  ...  morning_night  total_distance\n",
              "34310         13.3           1  ...              0        2.974341\n",
              "88856          7.7           0  ...              1       19.444751\n",
              "23100          3.3           0  ...              1        0.495534\n",
              "66661          8.5           0  ...              0        2.650962\n",
              "6317           5.3           0  ...              0        1.650151\n",
              "\n",
              "[5 rows x 14 columns]"
            ]
          },
          "metadata": {
            "tags": []
          },
          "execution_count": 53
        }
      ]
    },
    {
      "cell_type": "markdown",
      "metadata": {
        "id": "sMb65By2BvId"
      },
      "source": [
        "We apply PCA to transform longitude and latitude coordinates. In this case it is not about dimension reduction since he transformed 2D-> 2D. The rotation could help for decision tree splits, and it did actually."
      ]
    },
    {
      "cell_type": "code",
      "metadata": {
        "id": "HiDAjXJMBvId"
      },
      "source": [
        "coords = np.vstack((df[['pickup_latitude', 'pickup_longitude']].values,\n",
        "                    df[['dropoff_latitude', 'dropoff_longitude']].values\n",
        "                   ))"
      ],
      "execution_count": 54,
      "outputs": []
    },
    {
      "cell_type": "code",
      "metadata": {
        "id": "VAEFErfFBvId",
        "colab": {
          "base_uri": "https://localhost:8080/"
        },
        "outputId": "4c9a50db-281c-44b0-b1ba-6c5f11279dc4"
      },
      "source": [
        "coords "
      ],
      "execution_count": 55,
      "outputs": [
        {
          "output_type": "execute_result",
          "data": {
            "text/plain": [
              "array([[ 40.751491, -74.005015],\n",
              "       [ 40.73097 , -74.00141 ],\n",
              "       [ 40.778576, -73.982182],\n",
              "       ...,\n",
              "       [ 40.761937, -73.963308],\n",
              "       [ 40.705221, -73.942839],\n",
              "       [ 40.750611, -73.973542]])"
            ]
          },
          "metadata": {
            "tags": []
          },
          "execution_count": 55
        }
      ]
    },
    {
      "cell_type": "code",
      "metadata": {
        "id": "XayXAdzsBvId"
      },
      "source": [
        "# Use PCA to transform pickup and dropoff\n",
        "\n",
        "from sklearn.decomposition import PCA\n",
        " \n",
        "pca = PCA().fit(coords)\n",
        "df['pickup_pca0'] = pca.transform(df[['pickup_latitude', 'pickup_longitude']])[:, 0]\n",
        "df['pickup_pca1'] = pca.transform(df[['pickup_latitude', 'pickup_longitude']])[:, 1]\n",
        "df['dropoff_pca0'] = pca.transform(df[['dropoff_latitude', 'dropoff_longitude']])[:, 0]\n",
        "df['dropoff_pca1'] = pca.transform(df[['dropoff_latitude', 'dropoff_longitude']])[:, 1]"
      ],
      "execution_count": 56,
      "outputs": []
    },
    {
      "cell_type": "code",
      "metadata": {
        "id": "69UC_i32BvId",
        "colab": {
          "base_uri": "https://localhost:8080/",
          "height": 258
        },
        "outputId": "63cc81a8-35b9-469e-e964-0d35df54d4d5"
      },
      "source": [
        "df.head()"
      ],
      "execution_count": 57,
      "outputs": [
        {
          "output_type": "execute_result",
          "data": {
            "text/html": [
              "<div>\n",
              "<style scoped>\n",
              "    .dataframe tbody tr th:only-of-type {\n",
              "        vertical-align: middle;\n",
              "    }\n",
              "\n",
              "    .dataframe tbody tr th {\n",
              "        vertical-align: top;\n",
              "    }\n",
              "\n",
              "    .dataframe thead th {\n",
              "        text-align: right;\n",
              "    }\n",
              "</style>\n",
              "<table border=\"1\" class=\"dataframe\">\n",
              "  <thead>\n",
              "    <tr style=\"text-align: right;\">\n",
              "      <th></th>\n",
              "      <th>fare_amount</th>\n",
              "      <th>fare_class</th>\n",
              "      <th>pickup_longitude</th>\n",
              "      <th>pickup_latitude</th>\n",
              "      <th>dropoff_longitude</th>\n",
              "      <th>dropoff_latitude</th>\n",
              "      <th>passenger_count</th>\n",
              "      <th>Month</th>\n",
              "      <th>Day</th>\n",
              "      <th>Hours</th>\n",
              "      <th>Minutes</th>\n",
              "      <th>Day of week</th>\n",
              "      <th>morning_night</th>\n",
              "      <th>total_distance</th>\n",
              "      <th>pickup_pca0</th>\n",
              "      <th>pickup_pca1</th>\n",
              "      <th>dropoff_pca0</th>\n",
              "      <th>dropoff_pca1</th>\n",
              "    </tr>\n",
              "  </thead>\n",
              "  <tbody>\n",
              "    <tr>\n",
              "      <th>34310</th>\n",
              "      <td>13.3</td>\n",
              "      <td>1</td>\n",
              "      <td>-74.005015</td>\n",
              "      <td>40.751491</td>\n",
              "      <td>-73.973722</td>\n",
              "      <td>40.763886</td>\n",
              "      <td>2</td>\n",
              "      <td>4</td>\n",
              "      <td>23</td>\n",
              "      <td>9</td>\n",
              "      <td>45</td>\n",
              "      <td>4</td>\n",
              "      <td>0</td>\n",
              "      <td>2.974341</td>\n",
              "      <td>0.026280</td>\n",
              "      <td>-0.012184</td>\n",
              "      <td>-0.007339</td>\n",
              "      <td>-0.010547</td>\n",
              "    </tr>\n",
              "    <tr>\n",
              "      <th>88856</th>\n",
              "      <td>7.7</td>\n",
              "      <td>0</td>\n",
              "      <td>-74.001410</td>\n",
              "      <td>40.730970</td>\n",
              "      <td>-73.771457</td>\n",
              "      <td>40.716523</td>\n",
              "      <td>3</td>\n",
              "      <td>4</td>\n",
              "      <td>11</td>\n",
              "      <td>14</td>\n",
              "      <td>5</td>\n",
              "      <td>6</td>\n",
              "      <td>1</td>\n",
              "      <td>19.444751</td>\n",
              "      <td>0.031472</td>\n",
              "      <td>0.007994</td>\n",
              "      <td>-0.171984</td>\n",
              "      <td>0.116127</td>\n",
              "    </tr>\n",
              "    <tr>\n",
              "      <th>23100</th>\n",
              "      <td>3.3</td>\n",
              "      <td>0</td>\n",
              "      <td>-73.982182</td>\n",
              "      <td>40.778576</td>\n",
              "      <td>-73.982332</td>\n",
              "      <td>40.774121</td>\n",
              "      <td>1</td>\n",
              "      <td>4</td>\n",
              "      <td>23</td>\n",
              "      <td>23</td>\n",
              "      <td>30</td>\n",
              "      <td>4</td>\n",
              "      <td>1</td>\n",
              "      <td>0.495534</td>\n",
              "      <td>-0.005701</td>\n",
              "      <td>-0.027420</td>\n",
              "      <td>-0.003725</td>\n",
              "      <td>-0.023425</td>\n",
              "    </tr>\n",
              "    <tr>\n",
              "      <th>66661</th>\n",
              "      <td>8.5</td>\n",
              "      <td>0</td>\n",
              "      <td>-73.981904</td>\n",
              "      <td>40.766528</td>\n",
              "      <td>-74.003434</td>\n",
              "      <td>40.749138</td>\n",
              "      <td>2</td>\n",
              "      <td>4</td>\n",
              "      <td>13</td>\n",
              "      <td>8</td>\n",
              "      <td>47</td>\n",
              "      <td>1</td>\n",
              "      <td>0</td>\n",
              "      <td>2.650962</td>\n",
              "      <td>-0.000978</td>\n",
              "      <td>-0.016333</td>\n",
              "      <td>0.025812</td>\n",
              "      <td>-0.009388</td>\n",
              "    </tr>\n",
              "    <tr>\n",
              "      <th>6317</th>\n",
              "      <td>5.3</td>\n",
              "      <td>0</td>\n",
              "      <td>-73.959575</td>\n",
              "      <td>40.774102</td>\n",
              "      <td>-73.970382</td>\n",
              "      <td>40.761723</td>\n",
              "      <td>1</td>\n",
              "      <td>4</td>\n",
              "      <td>23</td>\n",
              "      <td>3</td>\n",
              "      <td>41</td>\n",
              "      <td>4</td>\n",
              "      <td>0</td>\n",
              "      <td>1.650151</td>\n",
              "      <td>-0.024442</td>\n",
              "      <td>-0.014008</td>\n",
              "      <td>-0.009487</td>\n",
              "      <td>-0.007198</td>\n",
              "    </tr>\n",
              "  </tbody>\n",
              "</table>\n",
              "</div>"
            ],
            "text/plain": [
              "       fare_amount  fare_class  ...  dropoff_pca0  dropoff_pca1\n",
              "34310         13.3           1  ...     -0.007339     -0.010547\n",
              "88856          7.7           0  ...     -0.171984      0.116127\n",
              "23100          3.3           0  ...     -0.003725     -0.023425\n",
              "66661          8.5           0  ...      0.025812     -0.009388\n",
              "6317           5.3           0  ...     -0.009487     -0.007198\n",
              "\n",
              "[5 rows x 18 columns]"
            ]
          },
          "metadata": {
            "tags": []
          },
          "execution_count": 57
        }
      ]
    },
    {
      "cell_type": "code",
      "metadata": {
        "id": "s1KY09TCBvId"
      },
      "source": [
        "df.drop([\"pickup_longitude\",\"pickup_latitude\",\"dropoff_longitude\",\"dropoff_latitude\"],axis=1,inplace = True)"
      ],
      "execution_count": 58,
      "outputs": []
    },
    {
      "cell_type": "markdown",
      "metadata": {
        "id": "nslkVK76akp-"
      },
      "source": [
        "Here is our final result:"
      ]
    },
    {
      "cell_type": "code",
      "metadata": {
        "id": "gBpSi4zMBvId",
        "colab": {
          "base_uri": "https://localhost:8080/",
          "height": 258
        },
        "outputId": "3f068332-f760-4027-8ef1-877678a1839e"
      },
      "source": [
        "df.head()"
      ],
      "execution_count": 59,
      "outputs": [
        {
          "output_type": "execute_result",
          "data": {
            "text/html": [
              "<div>\n",
              "<style scoped>\n",
              "    .dataframe tbody tr th:only-of-type {\n",
              "        vertical-align: middle;\n",
              "    }\n",
              "\n",
              "    .dataframe tbody tr th {\n",
              "        vertical-align: top;\n",
              "    }\n",
              "\n",
              "    .dataframe thead th {\n",
              "        text-align: right;\n",
              "    }\n",
              "</style>\n",
              "<table border=\"1\" class=\"dataframe\">\n",
              "  <thead>\n",
              "    <tr style=\"text-align: right;\">\n",
              "      <th></th>\n",
              "      <th>fare_amount</th>\n",
              "      <th>fare_class</th>\n",
              "      <th>passenger_count</th>\n",
              "      <th>Month</th>\n",
              "      <th>Day</th>\n",
              "      <th>Hours</th>\n",
              "      <th>Minutes</th>\n",
              "      <th>Day of week</th>\n",
              "      <th>morning_night</th>\n",
              "      <th>total_distance</th>\n",
              "      <th>pickup_pca0</th>\n",
              "      <th>pickup_pca1</th>\n",
              "      <th>dropoff_pca0</th>\n",
              "      <th>dropoff_pca1</th>\n",
              "    </tr>\n",
              "  </thead>\n",
              "  <tbody>\n",
              "    <tr>\n",
              "      <th>34310</th>\n",
              "      <td>13.3</td>\n",
              "      <td>1</td>\n",
              "      <td>2</td>\n",
              "      <td>4</td>\n",
              "      <td>23</td>\n",
              "      <td>9</td>\n",
              "      <td>45</td>\n",
              "      <td>4</td>\n",
              "      <td>0</td>\n",
              "      <td>2.974341</td>\n",
              "      <td>0.026280</td>\n",
              "      <td>-0.012184</td>\n",
              "      <td>-0.007339</td>\n",
              "      <td>-0.010547</td>\n",
              "    </tr>\n",
              "    <tr>\n",
              "      <th>88856</th>\n",
              "      <td>7.7</td>\n",
              "      <td>0</td>\n",
              "      <td>3</td>\n",
              "      <td>4</td>\n",
              "      <td>11</td>\n",
              "      <td>14</td>\n",
              "      <td>5</td>\n",
              "      <td>6</td>\n",
              "      <td>1</td>\n",
              "      <td>19.444751</td>\n",
              "      <td>0.031472</td>\n",
              "      <td>0.007994</td>\n",
              "      <td>-0.171984</td>\n",
              "      <td>0.116127</td>\n",
              "    </tr>\n",
              "    <tr>\n",
              "      <th>23100</th>\n",
              "      <td>3.3</td>\n",
              "      <td>0</td>\n",
              "      <td>1</td>\n",
              "      <td>4</td>\n",
              "      <td>23</td>\n",
              "      <td>23</td>\n",
              "      <td>30</td>\n",
              "      <td>4</td>\n",
              "      <td>1</td>\n",
              "      <td>0.495534</td>\n",
              "      <td>-0.005701</td>\n",
              "      <td>-0.027420</td>\n",
              "      <td>-0.003725</td>\n",
              "      <td>-0.023425</td>\n",
              "    </tr>\n",
              "    <tr>\n",
              "      <th>66661</th>\n",
              "      <td>8.5</td>\n",
              "      <td>0</td>\n",
              "      <td>2</td>\n",
              "      <td>4</td>\n",
              "      <td>13</td>\n",
              "      <td>8</td>\n",
              "      <td>47</td>\n",
              "      <td>1</td>\n",
              "      <td>0</td>\n",
              "      <td>2.650962</td>\n",
              "      <td>-0.000978</td>\n",
              "      <td>-0.016333</td>\n",
              "      <td>0.025812</td>\n",
              "      <td>-0.009388</td>\n",
              "    </tr>\n",
              "    <tr>\n",
              "      <th>6317</th>\n",
              "      <td>5.3</td>\n",
              "      <td>0</td>\n",
              "      <td>1</td>\n",
              "      <td>4</td>\n",
              "      <td>23</td>\n",
              "      <td>3</td>\n",
              "      <td>41</td>\n",
              "      <td>4</td>\n",
              "      <td>0</td>\n",
              "      <td>1.650151</td>\n",
              "      <td>-0.024442</td>\n",
              "      <td>-0.014008</td>\n",
              "      <td>-0.009487</td>\n",
              "      <td>-0.007198</td>\n",
              "    </tr>\n",
              "  </tbody>\n",
              "</table>\n",
              "</div>"
            ],
            "text/plain": [
              "       fare_amount  fare_class  ...  dropoff_pca0  dropoff_pca1\n",
              "34310         13.3           1  ...     -0.007339     -0.010547\n",
              "88856          7.7           0  ...     -0.171984      0.116127\n",
              "23100          3.3           0  ...     -0.003725     -0.023425\n",
              "66661          8.5           0  ...      0.025812     -0.009388\n",
              "6317           5.3           0  ...     -0.009487     -0.007198\n",
              "\n",
              "[5 rows x 14 columns]"
            ]
          },
          "metadata": {
            "tags": []
          },
          "execution_count": 59
        }
      ]
    },
    {
      "cell_type": "code",
      "metadata": {
        "id": "oqtmDM74JNnl"
      },
      "source": [
        "# Generate the final data csv \n",
        "df.to_csv('final_data.csv')"
      ],
      "execution_count": 60,
      "outputs": []
    },
    {
      "cell_type": "markdown",
      "metadata": {
        "id": "FUu1lkeU7mg6"
      },
      "source": [
        "### Findings: \n",
        "- To use numerical transformations such as PCA could be beneficial\n",
        "- Are there other variations of distance calculations"
      ]
    },
    {
      "cell_type": "markdown",
      "metadata": {
        "id": "jkiE_1IqBvId"
      },
      "source": [
        "# 2. EDA"
      ]
    },
    {
      "cell_type": "code",
      "metadata": {
        "id": "qiB8KX_VBvIe",
        "colab": {
          "base_uri": "https://localhost:8080/"
        },
        "outputId": "bc28cb8f-2829-4eb6-b81f-e867575680ea"
      },
      "source": [
        "# There are no missing values\n",
        "\n",
        "df.isnull().sum()"
      ],
      "execution_count": null,
      "outputs": [
        {
          "output_type": "execute_result",
          "data": {
            "text/plain": [
              "fare_amount        0\n",
              "fare_class         0\n",
              "passenger_count    0\n",
              "Month              0\n",
              "Day                0\n",
              "Hours              0\n",
              "Minutes            0\n",
              "Day of week        0\n",
              "morning_night      0\n",
              "total_distance     0\n",
              "pickup_pca0        0\n",
              "pickup_pca1        0\n",
              "dropoff_pca0       0\n",
              "dropoff_pca1       0\n",
              "dtype: int64"
            ]
          },
          "metadata": {
            "tags": []
          },
          "execution_count": 22
        }
      ]
    },
    {
      "cell_type": "code",
      "metadata": {
        "id": "BZ1lbSb8BvIe",
        "colab": {
          "base_uri": "https://localhost:8080/"
        },
        "outputId": "40cf45fe-3d75-4184-d3a4-cc9f1a890d50"
      },
      "source": [
        "plt.figure(figsize=(12,7))\n",
        "sns.heatmap(df.drop('Month',axis= 1).corr(), annot=True)"
      ],
      "execution_count": null,
      "outputs": [
        {
          "output_type": "execute_result",
          "data": {
            "text/plain": [
              "<matplotlib.axes._subplots.AxesSubplot at 0x7f6bfcecc9e8>"
            ]
          },
          "metadata": {
            "tags": []
          },
          "execution_count": 23
        },
        {
          "output_type": "display_data",
          "data": {
            "image/png": "[encoded data removed]",
            "text/plain": [
              "<Figure size 864x504 with 2 Axes>"
            ]
          },
          "metadata": {
            "tags": []
          }
        }
      ]
    },
    {
      "cell_type": "code",
      "metadata": {
        "id": "iIHxaiAHBvIe",
        "colab": {
          "base_uri": "https://localhost:8080/"
        },
        "outputId": "8fb518bc-4861-4eeb-90f4-3321aca574d3"
      },
      "source": [
        "# Checking the distribution \n",
        "\n",
        "df.total_distance.hist()"
      ],
      "execution_count": null,
      "outputs": [
        {
          "output_type": "execute_result",
          "data": {
            "text/plain": [
              "<matplotlib.axes._subplots.AxesSubplot at 0x7f6bfa3212b0>"
            ]
          },
          "metadata": {
            "tags": []
          },
          "execution_count": 24
        },
        {
          "output_type": "display_data",
          "data": {
            "image/png": "[encoded data removed]",
            "text/plain": [
              "<Figure size 432x288 with 1 Axes>"
            ]
          },
          "metadata": {
            "tags": []
          }
        }
      ]
    },
    {
      "cell_type": "code",
      "metadata": {
        "id": "z2O9C3SdBvIe",
        "colab": {
          "base_uri": "https://localhost:8080/"
        },
        "outputId": "2b845904-0c8d-4c34-e50f-105a779d69d8"
      },
      "source": [
        "sns.boxplot(df.total_distance ) "
      ],
      "execution_count": null,
      "outputs": [
        {
          "output_type": "stream",
          "text": [
            "/usr/local/lib/python3.6/dist-packages/seaborn/_decorators.py:43: FutureWarning: Pass the following variable as a keyword arg: x. From version 0.12, the only valid positional argument will be `data`, and passing other arguments without an explicit keyword will result in an error or misinterpretation.\n",
            "  FutureWarning\n"
          ],
          "name": "stderr"
        },
        {
          "output_type": "execute_result",
          "data": {
            "text/plain": [
              "<matplotlib.axes._subplots.AxesSubplot at 0x7f6c00eb6358>"
            ]
          },
          "metadata": {
            "tags": []
          },
          "execution_count": 25
        },
        {
          "output_type": "display_data",
          "data": {
            "image/png": "[encoded data removed]",
            "text/plain": [
              "<Figure size 432x288 with 1 Axes>"
            ]
          },
          "metadata": {
            "tags": []
          }
        }
      ]
    },
    {
      "cell_type": "code",
      "metadata": {
        "id": "j_LtNLWIBvIe",
        "colab": {
          "base_uri": "https://localhost:8080/"
        },
        "outputId": "3f97e01c-c6de-4f84-e9f3-0e8455281151"
      },
      "source": [
        "df.fare_amount.hist()"
      ],
      "execution_count": null,
      "outputs": [
        {
          "output_type": "execute_result",
          "data": {
            "text/plain": [
              "<matplotlib.axes._subplots.AxesSubplot at 0x7f6bf849a668>"
            ]
          },
          "metadata": {
            "tags": []
          },
          "execution_count": 26
        },
        {
          "output_type": "display_data",
          "data": {
            "image/png": "[encoded data removed]",
            "text/plain": [
              "<Figure size 432x288 with 1 Axes>"
            ]
          },
          "metadata": {
            "tags": []
          }
        }
      ]
    },
    {
      "cell_type": "code",
      "metadata": {
        "id": "GjIGpTljBvIe"
      },
      "source": [
        "# Checking the outliers for non gaussian distributions\n",
        "def identify_outliers(data = df, column = 'total_distance'):\n",
        "    from numpy import percentile\n",
        "    # To indentify outliers in a Non Gaussian distribution we use 25 and 75 percentiles \n",
        "    q25, q75 = percentile(data[column], 25) , percentile(df.total_distance, 75) \n",
        "    iqr = q75 - q25\n",
        "    # calculate the outlier cutoff - Lower and upper\n",
        "    cut_off = iqr * 1.5\n",
        "    lower, upper = q25 - cut_off, q75 + cut_off\n",
        "    #print(f'Upper {upper}, Lower {lower}')\n",
        "    # identify outliers\n",
        "    outliers = [x for x in data[column] if x < lower or x > upper]\n",
        "    output = ('Identified outliers: %d' % len(outliers))\n",
        "    return output"
      ],
      "execution_count": null,
      "outputs": []
    },
    {
      "cell_type": "code",
      "metadata": {
        "id": "kuA7QiBcBvIe"
      },
      "source": [
        "cols = ['fare_amount' , 'total_distance' ]"
      ],
      "execution_count": null,
      "outputs": []
    },
    {
      "cell_type": "code",
      "metadata": {
        "id": "RhTB_TkzBvIe",
        "colab": {
          "base_uri": "https://localhost:8080/"
        },
        "outputId": "731dd3be-e551-42b6-ee5e-1f0d1927ab0c"
      },
      "source": [
        "for col in cols:\n",
        "    print(col,identify_outliers(column = col)) "
      ],
      "execution_count": null,
      "outputs": [
        {
          "output_type": "stream",
          "text": [
            "fare_amount Identified outliers: 5000\n",
            "total_distance Identified outliers: 395\n"
          ],
          "name": "stdout"
        }
      ]
    },
    {
      "cell_type": "code",
      "metadata": {
        "id": "y8qxDFjNBvIe",
        "colab": {
          "base_uri": "https://localhost:8080/"
        },
        "outputId": "b5c2204f-57e3-4326-ec1f-e5aa1d265cb1"
      },
      "source": [
        "df.head()"
      ],
      "execution_count": null,
      "outputs": [
        {
          "output_type": "execute_result",
          "data": {
            "text/html": [
              "<div>\n",
              "<style scoped>\n",
              "    .dataframe tbody tr th:only-of-type {\n",
              "        vertical-align: middle;\n",
              "    }\n",
              "\n",
              "    .dataframe tbody tr th {\n",
              "        vertical-align: top;\n",
              "    }\n",
              "\n",
              "    .dataframe thead th {\n",
              "        text-align: right;\n",
              "    }\n",
              "</style>\n",
              "<table border=\"1\" class=\"dataframe\">\n",
              "  <thead>\n",
              "    <tr style=\"text-align: right;\">\n",
              "      <th></th>\n",
              "      <th>fare_amount</th>\n",
              "      <th>fare_class</th>\n",
              "      <th>passenger_count</th>\n",
              "      <th>Month</th>\n",
              "      <th>Day</th>\n",
              "      <th>Hours</th>\n",
              "      <th>Minutes</th>\n",
              "      <th>Day of week</th>\n",
              "      <th>morning_night</th>\n",
              "      <th>total_distance</th>\n",
              "      <th>pickup_pca0</th>\n",
              "      <th>pickup_pca1</th>\n",
              "      <th>dropoff_pca0</th>\n",
              "      <th>dropoff_pca1</th>\n",
              "    </tr>\n",
              "  </thead>\n",
              "  <tbody>\n",
              "    <tr>\n",
              "      <th>0</th>\n",
              "      <td>6.5</td>\n",
              "      <td>0</td>\n",
              "      <td>1</td>\n",
              "      <td>4</td>\n",
              "      <td>19</td>\n",
              "      <td>3</td>\n",
              "      <td>17</td>\n",
              "      <td>0</td>\n",
              "      <td>0</td>\n",
              "      <td>2.126312</td>\n",
              "      <td>-0.023334</td>\n",
              "      <td>0.013860</td>\n",
              "      <td>-0.002526</td>\n",
              "      <td>0.006523</td>\n",
              "    </tr>\n",
              "    <tr>\n",
              "      <th>1</th>\n",
              "      <td>6.9</td>\n",
              "      <td>0</td>\n",
              "      <td>1</td>\n",
              "      <td>4</td>\n",
              "      <td>17</td>\n",
              "      <td>10</td>\n",
              "      <td>43</td>\n",
              "      <td>5</td>\n",
              "      <td>0</td>\n",
              "      <td>1.392307</td>\n",
              "      <td>-0.017643</td>\n",
              "      <td>0.005282</td>\n",
              "      <td>-0.001564</td>\n",
              "      <td>0.007563</td>\n",
              "    </tr>\n",
              "    <tr>\n",
              "      <th>2</th>\n",
              "      <td>10.1</td>\n",
              "      <td>1</td>\n",
              "      <td>2</td>\n",
              "      <td>4</td>\n",
              "      <td>17</td>\n",
              "      <td>6</td>\n",
              "      <td>23</td>\n",
              "      <td>5</td>\n",
              "      <td>0</td>\n",
              "      <td>3.326763</td>\n",
              "      <td>-0.017715</td>\n",
              "      <td>-0.006036</td>\n",
              "      <td>0.019514</td>\n",
              "      <td>-0.008114</td>\n",
              "    </tr>\n",
              "    <tr>\n",
              "      <th>3</th>\n",
              "      <td>8.9</td>\n",
              "      <td>0</td>\n",
              "      <td>1</td>\n",
              "      <td>4</td>\n",
              "      <td>11</td>\n",
              "      <td>16</td>\n",
              "      <td>25</td>\n",
              "      <td>6</td>\n",
              "      <td>1</td>\n",
              "      <td>1.864129</td>\n",
              "      <td>-0.012411</td>\n",
              "      <td>-0.009700</td>\n",
              "      <td>0.002710</td>\n",
              "      <td>0.004820</td>\n",
              "    </tr>\n",
              "    <tr>\n",
              "      <th>4</th>\n",
              "      <td>19.7</td>\n",
              "      <td>1</td>\n",
              "      <td>1</td>\n",
              "      <td>4</td>\n",
              "      <td>16</td>\n",
              "      <td>21</td>\n",
              "      <td>19</td>\n",
              "      <td>4</td>\n",
              "      <td>1</td>\n",
              "      <td>7.231321</td>\n",
              "      <td>-0.020732</td>\n",
              "      <td>0.010909</td>\n",
              "      <td>0.061941</td>\n",
              "      <td>0.032656</td>\n",
              "    </tr>\n",
              "  </tbody>\n",
              "</table>\n",
              "</div>"
            ],
            "text/plain": [
              "   fare_amount  fare_class  ...  dropoff_pca0  dropoff_pca1\n",
              "0          6.5           0  ...     -0.002526      0.006523\n",
              "1          6.9           0  ...     -0.001564      0.007563\n",
              "2         10.1           1  ...      0.019514     -0.008114\n",
              "3          8.9           0  ...      0.002710      0.004820\n",
              "4         19.7           1  ...      0.061941      0.032656\n",
              "\n",
              "[5 rows x 14 columns]"
            ]
          },
          "metadata": {
            "tags": []
          },
          "execution_count": 30
        }
      ]
    },
    {
      "cell_type": "code",
      "metadata": {
        "id": "c8CQEZzPBvIe",
        "colab": {
          "base_uri": "https://localhost:8080/"
        },
        "outputId": "c454187d-fe10-436c-92d3-fe88c7cf56d8"
      },
      "source": [
        "df['passenger_count'].describe()"
      ],
      "execution_count": null,
      "outputs": [
        {
          "output_type": "execute_result",
          "data": {
            "text/plain": [
              "count    5000.000000\n",
              "mean        1.348400\n",
              "std         0.762321\n",
              "min         1.000000\n",
              "25%         1.000000\n",
              "50%         1.000000\n",
              "75%         1.000000\n",
              "max         5.000000\n",
              "Name: passenger_count, dtype: float64"
            ]
          },
          "metadata": {
            "tags": []
          },
          "execution_count": 31
        }
      ]
    },
    {
      "cell_type": "code",
      "metadata": {
        "id": "pRvEX49yBvIe",
        "colab": {
          "base_uri": "https://localhost:8080/"
        },
        "outputId": "afb51a0c-56db-4676-a312-55ee67eafac8"
      },
      "source": [
        "# There are no outliers in the column passenger count\n",
        "\n",
        "print(identify_outliers(data = data , column = 'pickup_latitude')) "
      ],
      "execution_count": null,
      "outputs": [
        {
          "output_type": "stream",
          "text": [
            "Identified outliers: 120000\n"
          ],
          "name": "stdout"
        }
      ]
    },
    {
      "cell_type": "code",
      "metadata": {
        "id": "AKm4I9ExBvIe",
        "colab": {
          "base_uri": "https://localhost:8080/"
        },
        "outputId": "5f5abf75-59aa-4ed4-dfce-ffc468d6b33d"
      },
      "source": [
        "df['passenger_count'].hist()"
      ],
      "execution_count": null,
      "outputs": [
        {
          "output_type": "execute_result",
          "data": {
            "text/plain": [
              "<matplotlib.axes._subplots.AxesSubplot at 0x7f6bf84bcdd8>"
            ]
          },
          "metadata": {
            "tags": []
          },
          "execution_count": 33
        },
        {
          "output_type": "display_data",
          "data": {
            "image/png": "[encoded data removed]",
            "text/plain": [
              "<Figure size 432x288 with 1 Axes>"
            ]
          },
          "metadata": {
            "tags": []
          }
        }
      ]
    },
    {
      "cell_type": "markdown",
      "metadata": {
        "id": "g5YSmVSMBvIe"
      },
      "source": [
        "**Does the number of passengers affect the fare?**"
      ]
    },
    {
      "cell_type": "code",
      "metadata": {
        "id": "wq-Ne5TkBvIe",
        "colab": {
          "base_uri": "https://localhost:8080/"
        },
        "outputId": "e5430ce4-bb4f-45a0-f022-138634138b88"
      },
      "source": [
        "# 2 passengers \n",
        "df.groupby('passenger_count')['fare_amount'].mean().plot(kind='line')\n",
        "\n",
        "# The average fare amount is a little bit higher for 2 passengers "
      ],
      "execution_count": null,
      "outputs": [
        {
          "output_type": "execute_result",
          "data": {
            "text/plain": [
              "<matplotlib.axes._subplots.AxesSubplot at 0x7f6bf81801d0>"
            ]
          },
          "metadata": {
            "tags": []
          },
          "execution_count": 34
        },
        {
          "output_type": "display_data",
          "data": {
            "image/png": "[encoded data removed]",
            "text/plain": [
              "<Figure size 432x288 with 1 Axes>"
            ]
          },
          "metadata": {
            "tags": []
          }
        }
      ]
    },
    {
      "cell_type": "markdown",
      "metadata": {
        "id": "5ul5Ju-5BvIe"
      },
      "source": [
        "- **Does the date and time of pickup affect the fare?**\n",
        "- **Does the day of the week affect the fare?**\n",
        "- **Does the distance travelled affect the fare?**"
      ]
    },
    {
      "cell_type": "code",
      "metadata": {
        "id": "VHSHZFlgBvIe"
      },
      "source": [
        "def target_col(data = df , group = 'passenger_count', target = 'fare_amount' , kind = 'bar' ):\n",
        "    var = data.groupby(group)[target].mean().sort_values(ascending = False)\n",
        "    return var.plot(kind = kind)"
      ],
      "execution_count": null,
      "outputs": []
    },
    {
      "cell_type": "code",
      "metadata": {
        "id": "Phefo1vcBvIe",
        "colab": {
          "base_uri": "https://localhost:8080/"
        },
        "outputId": "4b7a92c9-e8aa-4ed2-9356-6b135331f024"
      },
      "source": [
        "cols = ['passenger_count','Hours','Day' , 'morning_night' ]\n",
        "for group in cols:\n",
        "    print(group,target_col(group = group , kind='bar' ))\n",
        "    plt.show()"
      ],
      "execution_count": null,
      "outputs": [
        {
          "output_type": "stream",
          "text": [
            "passenger_count AxesSubplot(0.125,0.125;0.775x0.755)\n"
          ],
          "name": "stdout"
        },
        {
          "output_type": "display_data",
          "data": {
            "image/png": "[encoded data removed]",
            "text/plain": [
              "<Figure size 432x288 with 1 Axes>"
            ]
          },
          "metadata": {
            "tags": []
          }
        },
        {
          "output_type": "stream",
          "text": [
            "Hours AxesSubplot(0.125,0.125;0.775x0.755)\n"
          ],
          "name": "stdout"
        },
        {
          "output_type": "display_data",
          "data": {
            "image/png": "[encoded data removed]",
            "text/plain": [
              "<Figure size 432x288 with 1 Axes>"
            ]
          },
          "metadata": {
            "tags": []
          }
        },
        {
          "output_type": "stream",
          "text": [
            "Day AxesSubplot(0.125,0.125;0.775x0.755)\n"
          ],
          "name": "stdout"
        },
        {
          "output_type": "display_data",
          "data": {
            "image/png": "[encoded data removed]",
            "text/plain": [
              "<Figure size 432x288 with 1 Axes>"
            ]
          },
          "metadata": {
            "tags": []
          }
        },
        {
          "output_type": "stream",
          "text": [
            "morning_night AxesSubplot(0.125,0.125;0.775x0.755)\n"
          ],
          "name": "stdout"
        },
        {
          "output_type": "display_data",
          "data": {
            "image/png": "[encoded data removed]",
            "text/plain": [
              "<Figure size 432x288 with 1 Axes>"
            ]
          },
          "metadata": {
            "tags": []
          }
        }
      ]
    },
    {
      "cell_type": "code",
      "metadata": {
        "id": "gRPm75MqBvIe"
      },
      "source": [
        "# There is clear sign that hours si a feature with high impact in the fare amount"
      ],
      "execution_count": null,
      "outputs": []
    },
    {
      "cell_type": "code",
      "metadata": {
        "id": "efL9UlegBvIe",
        "colab": {
          "base_uri": "https://localhost:8080/"
        },
        "outputId": "60742268-25e0-4511-d4f8-893fb56fa04e"
      },
      "source": [
        "# Observe that there is only one month\n",
        "df.Month.nunique()"
      ],
      "execution_count": null,
      "outputs": [
        {
          "output_type": "execute_result",
          "data": {
            "text/plain": [
              "1"
            ]
          },
          "metadata": {
            "tags": []
          },
          "execution_count": 38
        }
      ]
    },
    {
      "cell_type": "markdown",
      "metadata": {
        "id": "JC5boz7pBvIe"
      },
      "source": [
        "**Does the distance travelled affect the fare?**"
      ]
    },
    {
      "cell_type": "code",
      "metadata": {
        "id": "ByD2Ga-6BvIe",
        "colab": {
          "base_uri": "https://localhost:8080/"
        },
        "outputId": "cb98804f-35f9-4f06-ee4e-96b65bd7f114"
      },
      "source": [
        "df.drop('Month',axis= 1).corr()['fare_amount'].sort_values(ascending=False).plot(kind='bar')"
      ],
      "execution_count": null,
      "outputs": [
        {
          "output_type": "execute_result",
          "data": {
            "text/plain": [
              "<matplotlib.axes._subplots.AxesSubplot at 0x7f6bf812ef60>"
            ]
          },
          "metadata": {
            "tags": []
          },
          "execution_count": 39
        },
        {
          "output_type": "display_data",
          "data": {
            "image/png": "[encoded data removed]",
            "text/plain": [
              "<Figure size 432x288 with 1 Axes>"
            ]
          },
          "metadata": {
            "tags": []
          }
        }
      ]
    },
    {
      "cell_type": "markdown",
      "metadata": {
        "id": "FYxvAphVBvIe"
      },
      "source": [
        "# 3. Feature Selection - Base parameters\n",
        "I will use xgboost and feature importance to find the best features"
      ]
    },
    {
      "cell_type": "code",
      "metadata": {
        "colab": {
          "base_uri": "https://localhost:8080/",
          "height": 258
        },
        "id": "dSBFe_e5aysQ",
        "outputId": "57d94b52-454c-4c52-e4d7-c127b2a6265f"
      },
      "source": [
        "df.head()"
      ],
      "execution_count": 26,
      "outputs": [
        {
          "output_type": "execute_result",
          "data": {
            "text/html": [
              "<div>\n",
              "<style scoped>\n",
              "    .dataframe tbody tr th:only-of-type {\n",
              "        vertical-align: middle;\n",
              "    }\n",
              "\n",
              "    .dataframe tbody tr th {\n",
              "        vertical-align: top;\n",
              "    }\n",
              "\n",
              "    .dataframe thead th {\n",
              "        text-align: right;\n",
              "    }\n",
              "</style>\n",
              "<table border=\"1\" class=\"dataframe\">\n",
              "  <thead>\n",
              "    <tr style=\"text-align: right;\">\n",
              "      <th></th>\n",
              "      <th>fare_amount</th>\n",
              "      <th>fare_class</th>\n",
              "      <th>passenger_count</th>\n",
              "      <th>Month</th>\n",
              "      <th>Day</th>\n",
              "      <th>Hours</th>\n",
              "      <th>Minutes</th>\n",
              "      <th>Day of week</th>\n",
              "      <th>morning_night</th>\n",
              "      <th>total_distance</th>\n",
              "      <th>pickup_pca0</th>\n",
              "      <th>pickup_pca1</th>\n",
              "      <th>dropoff_pca0</th>\n",
              "      <th>dropoff_pca1</th>\n",
              "    </tr>\n",
              "  </thead>\n",
              "  <tbody>\n",
              "    <tr>\n",
              "      <th>33161</th>\n",
              "      <td>7.3</td>\n",
              "      <td>0</td>\n",
              "      <td>1</td>\n",
              "      <td>4</td>\n",
              "      <td>24</td>\n",
              "      <td>18</td>\n",
              "      <td>27</td>\n",
              "      <td>5</td>\n",
              "      <td>1</td>\n",
              "      <td>3.839270</td>\n",
              "      <td>0.017481</td>\n",
              "      <td>0.010159</td>\n",
              "      <td>0.048176</td>\n",
              "      <td>0.031214</td>\n",
              "    </tr>\n",
              "    <tr>\n",
              "      <th>114630</th>\n",
              "      <td>5.3</td>\n",
              "      <td>0</td>\n",
              "      <td>1</td>\n",
              "      <td>4</td>\n",
              "      <td>23</td>\n",
              "      <td>14</td>\n",
              "      <td>10</td>\n",
              "      <td>4</td>\n",
              "      <td>1</td>\n",
              "      <td>2.028187</td>\n",
              "      <td>0.008550</td>\n",
              "      <td>0.004674</td>\n",
              "      <td>0.027695</td>\n",
              "      <td>0.012636</td>\n",
              "    </tr>\n",
              "    <tr>\n",
              "      <th>62397</th>\n",
              "      <td>4.1</td>\n",
              "      <td>0</td>\n",
              "      <td>5</td>\n",
              "      <td>4</td>\n",
              "      <td>22</td>\n",
              "      <td>18</td>\n",
              "      <td>51</td>\n",
              "      <td>3</td>\n",
              "      <td>1</td>\n",
              "      <td>1.283657</td>\n",
              "      <td>-0.042958</td>\n",
              "      <td>-0.022403</td>\n",
              "      <td>-0.031684</td>\n",
              "      <td>-0.016375</td>\n",
              "    </tr>\n",
              "    <tr>\n",
              "      <th>94302</th>\n",
              "      <td>4.5</td>\n",
              "      <td>0</td>\n",
              "      <td>1</td>\n",
              "      <td>4</td>\n",
              "      <td>23</td>\n",
              "      <td>7</td>\n",
              "      <td>54</td>\n",
              "      <td>4</td>\n",
              "      <td>0</td>\n",
              "      <td>0.903577</td>\n",
              "      <td>-0.022546</td>\n",
              "      <td>0.013926</td>\n",
              "      <td>-0.016062</td>\n",
              "      <td>0.006418</td>\n",
              "    </tr>\n",
              "    <tr>\n",
              "      <th>21674</th>\n",
              "      <td>9.7</td>\n",
              "      <td>0</td>\n",
              "      <td>1</td>\n",
              "      <td>4</td>\n",
              "      <td>23</td>\n",
              "      <td>5</td>\n",
              "      <td>19</td>\n",
              "      <td>4</td>\n",
              "      <td>0</td>\n",
              "      <td>3.614533</td>\n",
              "      <td>0.034336</td>\n",
              "      <td>0.022910</td>\n",
              "      <td>0.000892</td>\n",
              "      <td>0.007875</td>\n",
              "    </tr>\n",
              "  </tbody>\n",
              "</table>\n",
              "</div>"
            ],
            "text/plain": [
              "        fare_amount  fare_class  ...  dropoff_pca0  dropoff_pca1\n",
              "33161           7.3           0  ...      0.048176      0.031214\n",
              "114630          5.3           0  ...      0.027695      0.012636\n",
              "62397           4.1           0  ...     -0.031684     -0.016375\n",
              "94302           4.5           0  ...     -0.016062      0.006418\n",
              "21674           9.7           0  ...      0.000892      0.007875\n",
              "\n",
              "[5 rows x 14 columns]"
            ]
          },
          "metadata": {
            "tags": []
          },
          "execution_count": 26
        }
      ]
    },
    {
      "cell_type": "code",
      "metadata": {
        "id": "eWRriN30BvIe"
      },
      "source": [
        "############\n",
        "# XGBOOST method 1\n",
        "############\n",
        "from sklearn.model_selection import train_test_split\n",
        "from xgboost import XGBRegressor\n",
        "from sklearn.metrics import mean_squared_error as mse\n",
        "from sklearn.metrics import mean_absolute_error as mae\n",
        "from sklearn.feature_selection import SelectFromModel\n",
        "\n",
        "seed = 0 \n",
        "X = df.drop('fare_amount',axis=1 )\n",
        "y = df.fare_amount"
      ],
      "execution_count": 27,
      "outputs": []
    },
    {
      "cell_type": "code",
      "metadata": {
        "id": "BA7EXaI_BvIe",
        "colab": {
          "base_uri": "https://localhost:8080/",
          "height": 221
        },
        "outputId": "53eabb1d-e9c4-4e34-981b-abe50d88e2a2"
      },
      "source": [
        "X.head()"
      ],
      "execution_count": 28,
      "outputs": [
        {
          "output_type": "execute_result",
          "data": {
            "text/html": [
              "<div>\n",
              "<style scoped>\n",
              "    .dataframe tbody tr th:only-of-type {\n",
              "        vertical-align: middle;\n",
              "    }\n",
              "\n",
              "    .dataframe tbody tr th {\n",
              "        vertical-align: top;\n",
              "    }\n",
              "\n",
              "    .dataframe thead th {\n",
              "        text-align: right;\n",
              "    }\n",
              "</style>\n",
              "<table border=\"1\" class=\"dataframe\">\n",
              "  <thead>\n",
              "    <tr style=\"text-align: right;\">\n",
              "      <th></th>\n",
              "      <th>fare_class</th>\n",
              "      <th>passenger_count</th>\n",
              "      <th>Month</th>\n",
              "      <th>Day</th>\n",
              "      <th>Hours</th>\n",
              "      <th>Minutes</th>\n",
              "      <th>Day of week</th>\n",
              "      <th>morning_night</th>\n",
              "      <th>total_distance</th>\n",
              "      <th>pickup_pca0</th>\n",
              "      <th>pickup_pca1</th>\n",
              "      <th>dropoff_pca0</th>\n",
              "      <th>dropoff_pca1</th>\n",
              "    </tr>\n",
              "  </thead>\n",
              "  <tbody>\n",
              "    <tr>\n",
              "      <th>33161</th>\n",
              "      <td>0</td>\n",
              "      <td>1</td>\n",
              "      <td>4</td>\n",
              "      <td>24</td>\n",
              "      <td>18</td>\n",
              "      <td>27</td>\n",
              "      <td>5</td>\n",
              "      <td>1</td>\n",
              "      <td>3.839270</td>\n",
              "      <td>0.017481</td>\n",
              "      <td>0.010159</td>\n",
              "      <td>0.048176</td>\n",
              "      <td>0.031214</td>\n",
              "    </tr>\n",
              "    <tr>\n",
              "      <th>114630</th>\n",
              "      <td>0</td>\n",
              "      <td>1</td>\n",
              "      <td>4</td>\n",
              "      <td>23</td>\n",
              "      <td>14</td>\n",
              "      <td>10</td>\n",
              "      <td>4</td>\n",
              "      <td>1</td>\n",
              "      <td>2.028187</td>\n",
              "      <td>0.008550</td>\n",
              "      <td>0.004674</td>\n",
              "      <td>0.027695</td>\n",
              "      <td>0.012636</td>\n",
              "    </tr>\n",
              "    <tr>\n",
              "      <th>62397</th>\n",
              "      <td>0</td>\n",
              "      <td>5</td>\n",
              "      <td>4</td>\n",
              "      <td>22</td>\n",
              "      <td>18</td>\n",
              "      <td>51</td>\n",
              "      <td>3</td>\n",
              "      <td>1</td>\n",
              "      <td>1.283657</td>\n",
              "      <td>-0.042958</td>\n",
              "      <td>-0.022403</td>\n",
              "      <td>-0.031684</td>\n",
              "      <td>-0.016375</td>\n",
              "    </tr>\n",
              "    <tr>\n",
              "      <th>94302</th>\n",
              "      <td>0</td>\n",
              "      <td>1</td>\n",
              "      <td>4</td>\n",
              "      <td>23</td>\n",
              "      <td>7</td>\n",
              "      <td>54</td>\n",
              "      <td>4</td>\n",
              "      <td>0</td>\n",
              "      <td>0.903577</td>\n",
              "      <td>-0.022546</td>\n",
              "      <td>0.013926</td>\n",
              "      <td>-0.016062</td>\n",
              "      <td>0.006418</td>\n",
              "    </tr>\n",
              "    <tr>\n",
              "      <th>21674</th>\n",
              "      <td>0</td>\n",
              "      <td>1</td>\n",
              "      <td>4</td>\n",
              "      <td>23</td>\n",
              "      <td>5</td>\n",
              "      <td>19</td>\n",
              "      <td>4</td>\n",
              "      <td>0</td>\n",
              "      <td>3.614533</td>\n",
              "      <td>0.034336</td>\n",
              "      <td>0.022910</td>\n",
              "      <td>0.000892</td>\n",
              "      <td>0.007875</td>\n",
              "    </tr>\n",
              "  </tbody>\n",
              "</table>\n",
              "</div>"
            ],
            "text/plain": [
              "        fare_class  passenger_count  ...  dropoff_pca0  dropoff_pca1\n",
              "33161            0                1  ...      0.048176      0.031214\n",
              "114630           0                1  ...      0.027695      0.012636\n",
              "62397            0                5  ...     -0.031684     -0.016375\n",
              "94302            0                1  ...     -0.016062      0.006418\n",
              "21674            0                1  ...      0.000892      0.007875\n",
              "\n",
              "[5 rows x 13 columns]"
            ]
          },
          "metadata": {
            "tags": []
          },
          "execution_count": 28
        }
      ]
    },
    {
      "cell_type": "code",
      "metadata": {
        "id": "qM5Azm7jBvIe"
      },
      "source": [
        "# Train test split \n",
        "X_train, X_valid , y_train , y_valid = train_test_split(X,y , test_size =0.3,random_state = 0)"
      ],
      "execution_count": 29,
      "outputs": []
    },
    {
      "cell_type": "code",
      "metadata": {
        "id": "4zhw4PKeBvIe",
        "colab": {
          "base_uri": "https://localhost:8080/"
        },
        "outputId": "ab22d886-15e6-4bf8-ef43-26f0b5a6def3"
      },
      "source": [
        "print(X_train.shape)\n",
        "print(X_valid.shape)"
      ],
      "execution_count": 30,
      "outputs": [
        {
          "output_type": "stream",
          "text": [
            "(21000, 13)\n",
            "(9000, 13)\n"
          ],
          "name": "stdout"
        }
      ]
    },
    {
      "cell_type": "code",
      "metadata": {
        "id": "E7ox766sBvIe",
        "colab": {
          "base_uri": "https://localhost:8080/"
        },
        "outputId": "8802bc0d-9b65-4556-d092-26dda1119d27"
      },
      "source": [
        "model = XGBRegressor()\n",
        "model.fit(X_train,y_train)\n",
        "pred = model.predict(X_valid)\n",
        "mse_error = mse(y_valid,pred)"
      ],
      "execution_count": 31,
      "outputs": [
        {
          "output_type": "stream",
          "text": [
            "[09:32:05] WARNING: /workspace/src/objective/regression_obj.cu:152: reg:linear is now deprecated in favor of reg:squarederror.\n"
          ],
          "name": "stdout"
        }
      ]
    },
    {
      "cell_type": "code",
      "metadata": {
        "id": "F5pbY7mpBvIe",
        "colab": {
          "base_uri": "https://localhost:8080/"
        },
        "outputId": "8aebc7c8-80f7-4df5-a74c-71cf02bb357f"
      },
      "source": [
        "mse_error"
      ],
      "execution_count": 32,
      "outputs": [
        {
          "output_type": "execute_result",
          "data": {
            "text/plain": [
              "6.009738355119362"
            ]
          },
          "metadata": {
            "tags": []
          },
          "execution_count": 32
        }
      ]
    },
    {
      "cell_type": "markdown",
      "metadata": {
        "id": "V34BXoaJBvIe"
      },
      "source": [
        "In the example below we first train and then evaluate an XGBoost model on the entire training dataset and test datasets respectively."
      ]
    },
    {
      "cell_type": "code",
      "metadata": {
        "id": "doJdYWINBvIe",
        "colab": {
          "base_uri": "https://localhost:8080/"
        },
        "outputId": "d78fd497-04f3-493f-9f23-d7599ca5084c"
      },
      "source": [
        "thresholds = np.sort(model.feature_importances_)\n",
        "\n",
        "for thresh in thresholds:\n",
        "\t# select features using threshold\n",
        "\tselection = SelectFromModel(model, threshold=thresh, prefit=True)\n",
        "\tselect_X_train = selection.transform(X_train)\n",
        "\t# train model\n",
        "\tselection_model = XGBRegressor()\n",
        "\tselection_model.fit(select_X_train, y_train)\n",
        "\t\n",
        "    # eval model\n",
        "\tselect_X_test = selection.transform(X_valid)\n",
        "\tpredictions = selection_model.predict(select_X_test)\n",
        "\terror = mse(y_valid, predictions)\n",
        "\tprint(\"Thresh=%.3f, n=%d, MSE: %.2f\" % (thresh, select_X_train.shape[1], error))"
      ],
      "execution_count": 33,
      "outputs": [
        {
          "output_type": "stream",
          "text": [
            "[09:32:07] WARNING: /workspace/src/objective/regression_obj.cu:152: reg:linear is now deprecated in favor of reg:squarederror.\n",
            "Thresh=0.000, n=13, MSE: 6.01\n",
            "[09:32:08] WARNING: /workspace/src/objective/regression_obj.cu:152: reg:linear is now deprecated in favor of reg:squarederror.\n",
            "Thresh=0.000, n=13, MSE: 6.01\n",
            "[09:32:10] WARNING: /workspace/src/objective/regression_obj.cu:152: reg:linear is now deprecated in favor of reg:squarederror.\n",
            "Thresh=0.002, n=11, MSE: 6.01\n",
            "[09:32:11] WARNING: /workspace/src/objective/regression_obj.cu:152: reg:linear is now deprecated in favor of reg:squarederror.\n",
            "Thresh=0.004, n=10, MSE: 6.02\n",
            "[09:32:12] WARNING: /workspace/src/objective/regression_obj.cu:152: reg:linear is now deprecated in favor of reg:squarederror.\n",
            "Thresh=0.005, n=9, MSE: 6.04\n",
            "[09:32:14] WARNING: /workspace/src/objective/regression_obj.cu:152: reg:linear is now deprecated in favor of reg:squarederror.\n",
            "Thresh=0.006, n=8, MSE: 6.06\n",
            "[09:32:15] WARNING: /workspace/src/objective/regression_obj.cu:152: reg:linear is now deprecated in favor of reg:squarederror.\n",
            "Thresh=0.011, n=7, MSE: 6.14\n",
            "[09:32:16] WARNING: /workspace/src/objective/regression_obj.cu:152: reg:linear is now deprecated in favor of reg:squarederror.\n",
            "Thresh=0.012, n=6, MSE: 6.14\n",
            "[09:32:17] WARNING: /workspace/src/objective/regression_obj.cu:152: reg:linear is now deprecated in favor of reg:squarederror.\n",
            "Thresh=0.014, n=5, MSE: 6.22\n",
            "[09:32:18] WARNING: /workspace/src/objective/regression_obj.cu:152: reg:linear is now deprecated in favor of reg:squarederror.\n",
            "Thresh=0.014, n=4, MSE: 6.47\n",
            "[09:32:19] WARNING: /workspace/src/objective/regression_obj.cu:152: reg:linear is now deprecated in favor of reg:squarederror.\n",
            "Thresh=0.028, n=3, MSE: 6.73\n",
            "[09:32:20] WARNING: /workspace/src/objective/regression_obj.cu:152: reg:linear is now deprecated in favor of reg:squarederror.\n",
            "Thresh=0.379, n=2, MSE: 7.08\n",
            "[09:32:20] WARNING: /workspace/src/objective/regression_obj.cu:152: reg:linear is now deprecated in favor of reg:squarederror.\n",
            "Thresh=0.525, n=1, MSE: 10.94\n"
          ],
          "name": "stdout"
        }
      ]
    },
    {
      "cell_type": "code",
      "metadata": {
        "id": "sPD-1THFBvIe"
      },
      "source": [
        "# Here we can see the highest error is with 5 features"
      ],
      "execution_count": 34,
      "outputs": []
    },
    {
      "cell_type": "code",
      "metadata": {
        "id": "h4RmyqqYBvIe",
        "colab": {
          "base_uri": "https://localhost:8080/",
          "height": 312
        },
        "outputId": "b322cf52-ccfd-4511-89f0-50ccfa6cb618"
      },
      "source": [
        "############\n",
        "# XGBOOST method 2\n",
        "############\n",
        "\n",
        "# plot feature importance\n",
        "from xgboost import plot_importance\n",
        "\n",
        "# fit model no training data\n",
        "model.fit(X, y)\n",
        "# plot feature importance\n",
        "plot_importance(model)\n",
        "plt.show()"
      ],
      "execution_count": 35,
      "outputs": [
        {
          "output_type": "stream",
          "text": [
            "[09:32:21] WARNING: /workspace/src/objective/regression_obj.cu:152: reg:linear is now deprecated in favor of reg:squarederror.\n"
          ],
          "name": "stdout"
        },
        {
          "output_type": "display_data",
          "data": {
            "image/png": "[encoded data removed]",
            "text/plain": [
              "<Figure size 432x288 with 1 Axes>"
            ]
          },
          "metadata": {
            "tags": []
          }
        }
      ]
    },
    {
      "cell_type": "code",
      "metadata": {
        "id": "IiLdrKniBvIe",
        "colab": {
          "base_uri": "https://localhost:8080/"
        },
        "outputId": "1205e0c5-8d95-49a0-afc6-15474b1da203"
      },
      "source": [
        "############\n",
        "# Extra Tree Regressor \n",
        "############\n",
        "from sklearn.ensemble import ExtraTreesRegressor\n",
        "model_tree = ExtraTreesRegressor()\n",
        "model_tree.fit(X,y)"
      ],
      "execution_count": 36,
      "outputs": [
        {
          "output_type": "execute_result",
          "data": {
            "text/plain": [
              "ExtraTreesRegressor(bootstrap=False, ccp_alpha=0.0, criterion='mse',\n",
              "                    max_depth=None, max_features='auto', max_leaf_nodes=None,\n",
              "                    max_samples=None, min_impurity_decrease=0.0,\n",
              "                    min_impurity_split=None, min_samples_leaf=1,\n",
              "                    min_samples_split=2, min_weight_fraction_leaf=0.0,\n",
              "                    n_estimators=100, n_jobs=None, oob_score=False,\n",
              "                    random_state=None, verbose=0, warm_start=False)"
            ]
          },
          "metadata": {
            "tags": []
          },
          "execution_count": 36
        }
      ]
    },
    {
      "cell_type": "code",
      "metadata": {
        "id": "iGCFUe-bBvIe",
        "colab": {
          "base_uri": "https://localhost:8080/",
          "height": 282
        },
        "outputId": "18d4a47f-7445-4474-87ef-42d73b7dd5bf"
      },
      "source": [
        "f_importances = pd.Series(model_tree.feature_importances_,index = X.columns )\n",
        "f_importances.nlargest(7).plot(kind='barh')"
      ],
      "execution_count": 37,
      "outputs": [
        {
          "output_type": "execute_result",
          "data": {
            "text/plain": [
              "<matplotlib.axes._subplots.AxesSubplot at 0x7fa7bde69978>"
            ]
          },
          "metadata": {
            "tags": []
          },
          "execution_count": 37
        },
        {
          "output_type": "display_data",
          "data": {
            "image/png": "[encoded data removed]",
            "text/plain": [
              "<Figure size 432x288 with 1 Axes>"
            ]
          },
          "metadata": {
            "tags": []
          }
        }
      ]
    },
    {
      "cell_type": "markdown",
      "metadata": {
        "id": "sEr5hLMMBvIe"
      },
      "source": [
        "### Findings \n",
        "- The total distance and fare class are the most important features based on Extra tree regressor and Xgboost feature importances\n",
        "- We can see that the level of importance is diffrent based on the method we use "
      ]
    },
    {
      "cell_type": "markdown",
      "metadata": {
        "id": "g9FM1N7_BvIe"
      },
      "source": [
        "# 4. Modelling\n",
        "BEST SCORE: 6.344787 MSE with xgboost\n",
        "30 000 records. MSE: 5.497501 using RF\n"
      ]
    },
    {
      "cell_type": "markdown",
      "metadata": {
        "id": "NvWUqMA6BvIe"
      },
      "source": [
        "### 4.1 Evaluate various models without scaling "
      ]
    },
    {
      "cell_type": "code",
      "metadata": {
        "id": "IxQvZBMrBvIe",
        "colab": {
          "base_uri": "https://localhost:8080/",
          "height": 221
        },
        "outputId": "b71acc80-9880-4e5f-f7e0-4d79f642b8d8"
      },
      "source": [
        "X.head()"
      ],
      "execution_count": 114,
      "outputs": [
        {
          "output_type": "execute_result",
          "data": {
            "text/html": [
              "<div>\n",
              "<style scoped>\n",
              "    .dataframe tbody tr th:only-of-type {\n",
              "        vertical-align: middle;\n",
              "    }\n",
              "\n",
              "    .dataframe tbody tr th {\n",
              "        vertical-align: top;\n",
              "    }\n",
              "\n",
              "    .dataframe thead th {\n",
              "        text-align: right;\n",
              "    }\n",
              "</style>\n",
              "<table border=\"1\" class=\"dataframe\">\n",
              "  <thead>\n",
              "    <tr style=\"text-align: right;\">\n",
              "      <th></th>\n",
              "      <th>fare_class</th>\n",
              "      <th>passenger_count</th>\n",
              "      <th>Month</th>\n",
              "      <th>Day</th>\n",
              "      <th>Hours</th>\n",
              "      <th>Minutes</th>\n",
              "      <th>Day of week</th>\n",
              "      <th>morning_night</th>\n",
              "      <th>total_distance</th>\n",
              "      <th>pickup_pca0</th>\n",
              "      <th>pickup_pca1</th>\n",
              "      <th>dropoff_pca0</th>\n",
              "      <th>dropoff_pca1</th>\n",
              "    </tr>\n",
              "  </thead>\n",
              "  <tbody>\n",
              "    <tr>\n",
              "      <th>47234</th>\n",
              "      <td>0</td>\n",
              "      <td>5</td>\n",
              "      <td>4</td>\n",
              "      <td>21</td>\n",
              "      <td>5</td>\n",
              "      <td>22</td>\n",
              "      <td>2</td>\n",
              "      <td>0</td>\n",
              "      <td>1.580669</td>\n",
              "      <td>-0.031560</td>\n",
              "      <td>0.000093</td>\n",
              "      <td>-0.014087</td>\n",
              "      <td>-0.001821</td>\n",
              "    </tr>\n",
              "    <tr>\n",
              "      <th>73872</th>\n",
              "      <td>1</td>\n",
              "      <td>2</td>\n",
              "      <td>4</td>\n",
              "      <td>22</td>\n",
              "      <td>7</td>\n",
              "      <td>45</td>\n",
              "      <td>3</td>\n",
              "      <td>0</td>\n",
              "      <td>8.832125</td>\n",
              "      <td>0.002299</td>\n",
              "      <td>-0.004699</td>\n",
              "      <td>0.104609</td>\n",
              "      <td>0.012426</td>\n",
              "    </tr>\n",
              "    <tr>\n",
              "      <th>17371</th>\n",
              "      <td>0</td>\n",
              "      <td>1</td>\n",
              "      <td>4</td>\n",
              "      <td>20</td>\n",
              "      <td>1</td>\n",
              "      <td>42</td>\n",
              "      <td>1</td>\n",
              "      <td>0</td>\n",
              "      <td>2.726594</td>\n",
              "      <td>-0.005229</td>\n",
              "      <td>-0.028554</td>\n",
              "      <td>-0.001314</td>\n",
              "      <td>-0.003078</td>\n",
              "    </tr>\n",
              "    <tr>\n",
              "      <th>54766</th>\n",
              "      <td>0</td>\n",
              "      <td>3</td>\n",
              "      <td>4</td>\n",
              "      <td>24</td>\n",
              "      <td>13</td>\n",
              "      <td>9</td>\n",
              "      <td>5</td>\n",
              "      <td>1</td>\n",
              "      <td>1.504852</td>\n",
              "      <td>0.045539</td>\n",
              "      <td>0.023780</td>\n",
              "      <td>0.061642</td>\n",
              "      <td>0.020718</td>\n",
              "    </tr>\n",
              "    <tr>\n",
              "      <th>2512</th>\n",
              "      <td>1</td>\n",
              "      <td>1</td>\n",
              "      <td>4</td>\n",
              "      <td>23</td>\n",
              "      <td>2</td>\n",
              "      <td>28</td>\n",
              "      <td>4</td>\n",
              "      <td>0</td>\n",
              "      <td>3.505765</td>\n",
              "      <td>0.035672</td>\n",
              "      <td>-0.023627</td>\n",
              "      <td>-0.004213</td>\n",
              "      <td>-0.023028</td>\n",
              "    </tr>\n",
              "  </tbody>\n",
              "</table>\n",
              "</div>"
            ],
            "text/plain": [
              "       fare_class  passenger_count  ...  dropoff_pca0  dropoff_pca1\n",
              "47234           0                5  ...     -0.014087     -0.001821\n",
              "73872           1                2  ...      0.104609      0.012426\n",
              "17371           0                1  ...     -0.001314     -0.003078\n",
              "54766           0                3  ...      0.061642      0.020718\n",
              "2512            1                1  ...     -0.004213     -0.023028\n",
              "\n",
              "[5 rows x 13 columns]"
            ]
          },
          "metadata": {
            "tags": []
          },
          "execution_count": 114
        }
      ]
    },
    {
      "cell_type": "code",
      "metadata": {
        "id": "2ZH4ji1zBvIe"
      },
      "source": [
        "from sklearn.ensemble import RandomForestRegressor\n",
        "from sklearn.svm import LinearSVR \n",
        "from sklearn.model_selection import KFold, cross_val_score\n",
        "\n",
        "seed = 0  # Use the same seed through the exercises  \n",
        "models = []\n",
        "results = [] \n",
        "names = []\n",
        "\n",
        "models.append(('XGB', XGBRegressor(silent=True , random_state= seed )))\n",
        "models.append(('RF', RandomForestRegressor(random_state= seed)))\n",
        "models.append(('LSVR', LinearSVR(random_state= seed)))"
      ],
      "execution_count": 115,
      "outputs": []
    },
    {
      "cell_type": "code",
      "metadata": {
        "id": "2dIvfFs3BvIe",
        "colab": {
          "base_uri": "https://localhost:8080/"
        },
        "outputId": "7817ee96-becd-45ea-f95b-d864689813a9"
      },
      "source": [
        "# Result 1 - No scaling used \n",
        "for model_name,model in models: \n",
        "    print(f'Now training... {model_name}')\n",
        "    kfold = KFold(n_splits = 5, random_state = seed , shuffle=True ) # change the seed\n",
        "    print(f'Calculating cv_results...')\n",
        "    cv_results = -1 * cross_val_score(model,X,y, cv = kfold,scoring='neg_mean_squared_error')\n",
        "    print(f'Appending to results...')\n",
        "    results.append(cv_results)\n",
        "    names.append(model_name)\n",
        "    msg = \"%s: %f (%f)\" % (model_name, cv_results.mean(), cv_results.std())\n",
        "    print(f'Result {msg}')"
      ],
      "execution_count": 116,
      "outputs": [
        {
          "output_type": "stream",
          "text": [
            "Now training... XGB\n",
            "Calculating cv_results...\n",
            "Appending to results...\n",
            "Result XGB: 6.347467 (1.222547)\n",
            "Now training... RF\n",
            "Calculating cv_results...\n",
            "Appending to results...\n",
            "Result RF: 6.451535 (1.206152)\n",
            "Now training... LSVR\n",
            "Calculating cv_results...\n"
          ],
          "name": "stdout"
        },
        {
          "output_type": "stream",
          "text": [
            "/usr/local/lib/python3.6/dist-packages/sklearn/svm/_base.py:947: ConvergenceWarning: Liblinear failed to converge, increase the number of iterations.\n",
            "  \"the number of iterations.\", ConvergenceWarning)\n",
            "/usr/local/lib/python3.6/dist-packages/sklearn/svm/_base.py:947: ConvergenceWarning: Liblinear failed to converge, increase the number of iterations.\n",
            "  \"the number of iterations.\", ConvergenceWarning)\n",
            "/usr/local/lib/python3.6/dist-packages/sklearn/svm/_base.py:947: ConvergenceWarning: Liblinear failed to converge, increase the number of iterations.\n",
            "  \"the number of iterations.\", ConvergenceWarning)\n",
            "/usr/local/lib/python3.6/dist-packages/sklearn/svm/_base.py:947: ConvergenceWarning: Liblinear failed to converge, increase the number of iterations.\n",
            "  \"the number of iterations.\", ConvergenceWarning)\n"
          ],
          "name": "stderr"
        },
        {
          "output_type": "stream",
          "text": [
            "Appending to results...\n",
            "Result LSVR: 10.101524 (1.834429)\n"
          ],
          "name": "stdout"
        },
        {
          "output_type": "stream",
          "text": [
            "/usr/local/lib/python3.6/dist-packages/sklearn/svm/_base.py:947: ConvergenceWarning: Liblinear failed to converge, increase the number of iterations.\n",
            "  \"the number of iterations.\", ConvergenceWarning)\n"
          ],
          "name": "stderr"
        }
      ]
    },
    {
      "cell_type": "code",
      "metadata": {
        "id": "flHGHv0sBvIe",
        "colab": {
          "base_uri": "https://localhost:8080/",
          "height": 265
        },
        "outputId": "14ea2236-f35a-493f-fcff-a7b67f5dc07f"
      },
      "source": [
        "plt.boxplot(results, labels=names, showmeans=True)\n",
        "plt.show()"
      ],
      "execution_count": 117,
      "outputs": [
        {
          "output_type": "display_data",
          "data": {
            "image/png": "[encoded data removed]",
            "text/plain": [
              "<Figure size 432x288 with 1 Axes>"
            ]
          },
          "metadata": {
            "tags": []
          }
        }
      ]
    },
    {
      "cell_type": "code",
      "metadata": {
        "colab": {
          "base_uri": "https://localhost:8080/"
        },
        "id": "WlnLhZ9YPskF",
        "outputId": "89e8a3ef-2a05-4d97-b672-8da51b60c67d"
      },
      "source": [
        "results"
      ],
      "execution_count": 118,
      "outputs": [
        {
          "output_type": "execute_result",
          "data": {
            "text/plain": [
              "[array([7.99015222, 7.32904022, 6.11064478, 4.48099323, 5.82650623]),\n",
              " array([8.03408096, 7.46593102, 6.41516459, 4.69116043, 5.65133569]),\n",
              " array([11.66065208, 12.05407222,  9.93469767,  6.85422189, 10.003978  ])]"
            ]
          },
          "metadata": {
            "tags": []
          },
          "execution_count": 118
        }
      ]
    },
    {
      "cell_type": "markdown",
      "metadata": {
        "id": "f-ZmneoM-6g8"
      },
      "source": [
        "### 4.2 Evaluate various models with scaling "
      ]
    },
    {
      "cell_type": "code",
      "metadata": {
        "id": "YPeL7ilPBvIe"
      },
      "source": [
        "# Scale X and y to make LSVR converge \n",
        "\n",
        "from sklearn.preprocessing import MinMaxScaler\n",
        "scaler = MinMaxScaler()\n",
        "X_scaled = scaler.fit_transform(X)\n",
        "\n",
        "seed = 0  # Use the same seed through the exercises  \n",
        "models2 = []\n",
        "results2 = [] \n",
        "names2 = []\n",
        "\n",
        "models2.append(('XGB', XGBRegressor(silent=True, random_state = seed )))\n",
        "models2.append(('RF', RandomForestRegressor( random_state = seed )))\n",
        "models2.append(('LSVR', LinearSVR(random_state = seed  )))"
      ],
      "execution_count": 164,
      "outputs": []
    },
    {
      "cell_type": "code",
      "metadata": {
        "id": "2L_n50QdBvIe",
        "colab": {
          "base_uri": "https://localhost:8080/"
        },
        "outputId": "9e10d594-f67d-4866-988d-4c2f498087ad"
      },
      "source": [
        "# Result 2 - Scaling - Here I pass the scaled version \n",
        "for model_name,model in models2: \n",
        "    print(f'Now training... {model_name}')\n",
        "    kfold = KFold(n_splits = 5, random_state = seed , shuffle=True ) # change the seed\n",
        "    print(f'Calculating cv_results...')\n",
        "    \n",
        "    # Observe that here I will use the scaled version of X \n",
        "    cv_results = -1 * cross_val_score(model, X_scaled,y, cv = kfold,scoring='neg_mean_squared_error')\n",
        "    print(f'Appending to results...')\n",
        "    results2.append(cv_results)\n",
        "    names2.append(model_name)\n",
        "    msg = \"%s: %f (%f)\" % (model_name, cv_results.mean(), cv_results.std())\n",
        "    \n",
        "    print(f'Result {msg}')"
      ],
      "execution_count": 165,
      "outputs": [
        {
          "output_type": "stream",
          "text": [
            "Now training... XGB\n",
            "Calculating cv_results...\n",
            "Appending to results...\n",
            "Result XGB: 5.925881 (0.233370)\n",
            "Now training... RF\n",
            "Calculating cv_results...\n",
            "Appending to results...\n",
            "Result RF: 5.497501 (0.253806)\n",
            "Now training... LSVR\n",
            "Calculating cv_results...\n",
            "Appending to results...\n",
            "Result LSVR: 9.592559 (0.459155)\n"
          ],
          "name": "stdout"
        }
      ]
    },
    {
      "cell_type": "code",
      "metadata": {
        "id": "wkQTT8OzBvIe",
        "colab": {
          "base_uri": "https://localhost:8080/",
          "height": 265
        },
        "outputId": "a492bf07-67d2-4d44-b89d-2296d29bdb9c"
      },
      "source": [
        "plt.boxplot(results2, labels=names2, showmeans=True)\n",
        "plt.show()\n",
        "\n",
        "# We see the same results but LSVR needed to have scaled data as inputs"
      ],
      "execution_count": 166,
      "outputs": [
        {
          "output_type": "display_data",
          "data": {
            "image/png": "[encoded data removed]",
            "text/plain": [
              "<Figure size 432x288 with 1 Axes>"
            ]
          },
          "metadata": {
            "tags": []
          }
        }
      ]
    },
    {
      "cell_type": "code",
      "metadata": {
        "colab": {
          "base_uri": "https://localhost:8080/"
        },
        "id": "dlyA2eNXv4IE",
        "outputId": "4769face-8ec1-4338-b181-8ccc07aff18c"
      },
      "source": [
        "results2"
      ],
      "execution_count": 167,
      "outputs": [
        {
          "output_type": "execute_result",
          "data": {
            "text/plain": [
              "[array([6.35018712, 5.71194863, 5.81371977, 5.75614862, 5.99740191]),\n",
              " array([5.98207397, 5.28215849, 5.31811681, 5.40415293, 5.5010019 ]),\n",
              " array([ 9.87786976,  8.95951985,  9.21590424, 10.24435424,  9.66514699])]"
            ]
          },
          "metadata": {
            "tags": []
          },
          "execution_count": 167
        }
      ]
    },
    {
      "cell_type": "markdown",
      "metadata": {
        "id": "HL0VAnzKBvIe"
      },
      "source": [
        "## Findings - Best results:\n",
        "- 6.655964 and 6.656847  MSE with xgboost\n",
        "- We can see that XGB and RF gave us similar mse \n",
        "- It could be beneficial to scale the data first\n",
        "- The number of records will affect the final output\n"
      ]
    },
    {
      "cell_type": "markdown",
      "metadata": {
        "id": "GnAuEJ8BBvIf"
      },
      "source": [
        "# 5. Hyper parameter tunning \n",
        "Here we will comprare randomized grid search and gaussian methods to be able to find the best parameters. \n",
        "\n",
        "BEST SCORE: XGBOOST: 6.668229\n",
        "\n"
      ]
    },
    {
      "cell_type": "markdown",
      "metadata": {
        "id": "Gs5a_lLfBvIf"
      },
      "source": [
        "## 5.1 Random Forest and XGBoost tuning\n"
      ]
    },
    {
      "cell_type": "markdown",
      "metadata": {
        "id": "PcP-0K_CBvIf"
      },
      "source": [
        "**Random Forest**"
      ]
    },
    {
      "cell_type": "code",
      "metadata": {
        "id": "om2FSlqhBvIf"
      },
      "source": [
        "# Random Forest - Select the best n_estimators: \n",
        "\n",
        "def get_score(n_estimators , cv = 5 ): \n",
        "    print(f'Now training: {n_estimators }')\n",
        "    model = RandomForestRegressor(n_estimators = n_estimators , random_state = seed)\n",
        "    print(f'Now obtaining the score for: {n_estimators }')\n",
        "    score = -1 * cross_val_score(model, X, y, cv = cv , scoring = 'neg_mean_squared_error' )\n",
        "    \n",
        "    return score.mean()"
      ],
      "execution_count": 141,
      "outputs": []
    },
    {
      "cell_type": "code",
      "metadata": {
        "id": "Lb5QBy6GBvIf",
        "colab": {
          "base_uri": "https://localhost:8080/"
        },
        "outputId": "71c1b574-18ad-49eb-9427-bdee6e3210fb"
      },
      "source": [
        "results = {}\n",
        "n_estimators = [50, 100, 150,200,250,300,350] \n",
        "\n",
        "for i in n_estimators:\n",
        "  results[i] = get_score(i)\n",
        "    \n",
        "\n",
        "# NOTE: Re run the loop with mean squared error . This is taking too long "
      ],
      "execution_count": 142,
      "outputs": [
        {
          "output_type": "stream",
          "text": [
            "Now training: 50\n",
            "Now obtaining the score for: 50\n",
            "Now training: 100\n",
            "Now obtaining the score for: 100\n",
            "Now training: 150\n",
            "Now obtaining the score for: 150\n",
            "Now training: 200\n",
            "Now obtaining the score for: 200\n",
            "Now training: 250\n",
            "Now obtaining the score for: 250\n",
            "Now training: 300\n",
            "Now obtaining the score for: 300\n",
            "Now training: 350\n",
            "Now obtaining the score for: 350\n"
          ],
          "name": "stdout"
        }
      ]
    },
    {
      "cell_type": "code",
      "metadata": {
        "id": "XDxS9bJgBvIg",
        "colab": {
          "base_uri": "https://localhost:8080/",
          "height": 282
        },
        "outputId": "f89f9fbe-b9eb-4810-997b-2dc5e74874c1"
      },
      "source": [
        "plt.plot(list(results.keys()) ,list(results.values()))"
      ],
      "execution_count": 143,
      "outputs": [
        {
          "output_type": "execute_result",
          "data": {
            "text/plain": [
              "[<matplotlib.lines.Line2D at 0x7f766a9f0ba8>]"
            ]
          },
          "metadata": {
            "tags": []
          },
          "execution_count": 143
        },
        {
          "output_type": "display_data",
          "data": {
            "image/png": "[encoded data removed]",
            "text/plain": [
              "<Figure size 432x288 with 1 Axes>"
            ]
          },
          "metadata": {
            "tags": [],
            "needs_background": "light"
          }
        }
      ]
    },
    {
      "cell_type": "markdown",
      "metadata": {
        "id": "Yj6O2EBisaua"
      },
      "source": [
        "Depending on the sample from the original df the how the mse varies depends"
      ]
    },
    {
      "cell_type": "markdown",
      "metadata": {
        "id": "yaWL4ZKZBvIg"
      },
      "source": [
        "**XGBOOST** "
      ]
    },
    {
      "cell_type": "code",
      "metadata": {
        "id": "q6XP6iJRBvIg",
        "colab": {
          "base_uri": "https://localhost:8080/"
        },
        "outputId": "e8799293-ee7e-44a7-8eb4-56837ce90d7a"
      },
      "source": [
        "# STEP 1 Tune max_depth and min_child_weight\n",
        "from sklearn.model_selection import GridSearchCV\n",
        "\n",
        "param_test1 = {\n",
        " 'max_depth':[i for i in range(3,28,2)],\n",
        " 'min_child_weight':[i for i in range(1,10,2)]\n",
        "}\n",
        "\n",
        "\n",
        "xgb_model = XGBRegressor(silent = True)\n",
        "gsearch1 = GridSearchCV(estimator = xgb_model, param_grid  = param_test1 , cv = 5, scoring='neg_mean_squared_error')\n",
        "\n",
        "gsearch1.fit(X_train,y_train)"
      ],
      "execution_count": 144,
      "outputs": [
        {
          "output_type": "execute_result",
          "data": {
            "text/plain": [
              "GridSearchCV(cv=5, error_score=nan,\n",
              "             estimator=XGBRegressor(base_score=0.5, booster='gbtree',\n",
              "                                    colsample_bylevel=1, colsample_bynode=1,\n",
              "                                    colsample_bytree=1, gamma=0,\n",
              "                                    importance_type='gain', learning_rate=0.1,\n",
              "                                    max_delta_step=0, max_depth=3,\n",
              "                                    min_child_weight=1, missing=None,\n",
              "                                    n_estimators=100, n_jobs=1, nthread=None,\n",
              "                                    objective='reg:linear', random_state=0,\n",
              "                                    reg_alpha=0, reg_lambda=1,\n",
              "                                    scale_pos_weight=1, seed=None, silent=True,\n",
              "                                    subsample=1, verbosity=1),\n",
              "             iid='deprecated', n_jobs=None,\n",
              "             param_grid={'max_depth': [3, 5, 7, 9, 11, 13, 15, 17, 19, 21, 23,\n",
              "                                       25, 27],\n",
              "                         'min_child_weight': [1, 3, 5, 7, 9]},\n",
              "             pre_dispatch='2*n_jobs', refit=True, return_train_score=False,\n",
              "             scoring='neg_mean_squared_error', verbose=0)"
            ]
          },
          "metadata": {
            "tags": []
          },
          "execution_count": 144
        }
      ]
    },
    {
      "cell_type": "code",
      "metadata": {
        "id": "et8AozwlBvIg",
        "colab": {
          "base_uri": "https://localhost:8080/"
        },
        "outputId": "2de993d4-224a-454f-8a3a-802b6a103d00"
      },
      "source": [
        "gsearch1.best_params_, gsearch1.best_score_"
      ],
      "execution_count": 145,
      "outputs": [
        {
          "output_type": "execute_result",
          "data": {
            "text/plain": [
              "({'max_depth': 3, 'min_child_weight': 1}, -6.466229889419196)"
            ]
          },
          "metadata": {
            "tags": []
          },
          "execution_count": 145
        }
      ]
    },
    {
      "cell_type": "code",
      "metadata": {
        "colab": {
          "base_uri": "https://localhost:8080/"
        },
        "id": "NVlI05IeJQxn",
        "outputId": "2beb19cd-69f6-49a2-e7db-8c9118713909"
      },
      "source": [
        "# STEP 2 Tune gamma \n",
        "\n",
        "param_test2 = {\n",
        " 'gamma':[i/10.0 for i in range(0,5)]\n",
        "}\n",
        "\n",
        "gsearch2 = GridSearchCV(estimator = XGBRegressor( learning_rate =0.1, n_estimators=140, max_depth=4,\n",
        " min_child_weight=6, gamma=0, subsample=0.8, colsample_bytree=0.8, nthread=4, scale_pos_weight=1,seed=27), \n",
        " param_grid = param_test2, scoring='neg_mean_squared_error',n_jobs=4,iid=False, cv=5)\n",
        "\n",
        "gsearch2.fit(X_train,y_train)"
      ],
      "execution_count": 146,
      "outputs": [
        {
          "output_type": "stream",
          "text": [
            "/usr/local/lib/python3.6/dist-packages/sklearn/model_selection/_search.py:823: FutureWarning: The parameter 'iid' is deprecated in 0.22 and will be removed in 0.24.\n",
            "  \"removed in 0.24.\", FutureWarning\n"
          ],
          "name": "stderr"
        },
        {
          "output_type": "stream",
          "text": [
            "[15:23:53] WARNING: /workspace/src/objective/regression_obj.cu:152: reg:linear is now deprecated in favor of reg:squarederror.\n"
          ],
          "name": "stdout"
        },
        {
          "output_type": "execute_result",
          "data": {
            "text/plain": [
              "GridSearchCV(cv=5, error_score=nan,\n",
              "             estimator=XGBRegressor(base_score=0.5, booster='gbtree',\n",
              "                                    colsample_bylevel=1, colsample_bynode=1,\n",
              "                                    colsample_bytree=0.8, gamma=0,\n",
              "                                    importance_type='gain', learning_rate=0.1,\n",
              "                                    max_delta_step=0, max_depth=4,\n",
              "                                    min_child_weight=6, missing=None,\n",
              "                                    n_estimators=140, n_jobs=1, nthread=4,\n",
              "                                    objective='reg:linear', random_state=0,\n",
              "                                    reg_alpha=0, reg_lambda=1,\n",
              "                                    scale_pos_weight=1, seed=27, silent=None,\n",
              "                                    subsample=0.8, verbosity=1),\n",
              "             iid=False, n_jobs=4,\n",
              "             param_grid={'gamma': [0.0, 0.1, 0.2, 0.3, 0.4]},\n",
              "             pre_dispatch='2*n_jobs', refit=True, return_train_score=False,\n",
              "             scoring='neg_mean_squared_error', verbose=0)"
            ]
          },
          "metadata": {
            "tags": []
          },
          "execution_count": 146
        }
      ]
    },
    {
      "cell_type": "code",
      "metadata": {
        "colab": {
          "base_uri": "https://localhost:8080/"
        },
        "id": "MGsEyX03J0vl",
        "outputId": "dd475f6c-1911-4244-ddf2-b506521ec0fa"
      },
      "source": [
        "gsearch2.best_params_, gsearch2.best_score_"
      ],
      "execution_count": 147,
      "outputs": [
        {
          "output_type": "execute_result",
          "data": {
            "text/plain": [
              "({'gamma': 0.4}, -6.315368104290968)"
            ]
          },
          "metadata": {
            "tags": []
          },
          "execution_count": 147
        }
      ]
    },
    {
      "cell_type": "markdown",
      "metadata": {
        "id": "QBvG2XTPKO95"
      },
      "source": [
        "### Random Forest vs XGBoost Results - Using tuning parameters"
      ]
    },
    {
      "cell_type": "code",
      "metadata": {
        "id": "45v87l_kKI7x"
      },
      "source": [
        "models = [] \n",
        "\n",
        "models.append(('Random Forest',RandomForestRegressor(n_estimators= 50) ))\n",
        "models.append(('XGBOOST', XGBRegressor(max_depth= 3 , min_child_weight= 1 , gamma= 0.4 ) ) )\n"
      ],
      "execution_count": 150,
      "outputs": []
    },
    {
      "cell_type": "code",
      "metadata": {
        "colab": {
          "base_uri": "https://localhost:8080/"
        },
        "id": "VWyv04vcMGnz",
        "outputId": "93a364d9-d5b0-4f8a-c33e-aef20466e473"
      },
      "source": [
        "results_tuning = []\n",
        "names =  []\n",
        "for model_name,model in models: \n",
        "    print(f'Now training... {model_name}')\n",
        "    kfold = KFold(n_splits = 5, random_state = seed , shuffle=True ) # change the seed\n",
        "    print(f'Calculating cv_results...')\n",
        "    cv_results = -1 * cross_val_score(model,X,y, cv = kfold,scoring='neg_mean_squared_error')\n",
        "    print(f'Appending to results...')\n",
        "    results_tuning .append(cv_results)\n",
        "    names.append(model_name)\n",
        "    msg = \"%s: %f (%f)\" % (model_name, cv_results.mean(), cv_results.std())\n",
        "    print(f'Result {msg}')"
      ],
      "execution_count": 151,
      "outputs": [
        {
          "output_type": "stream",
          "text": [
            "Now training... Random Forest\n",
            "Calculating cv_results...\n",
            "Appending to results...\n",
            "Result Random Forest: 6.795584 (1.615105)\n",
            "Now training... XGBOOST\n",
            "Calculating cv_results...\n",
            "[15:25:02] WARNING: /workspace/src/objective/regression_obj.cu:152: reg:linear is now deprecated in favor of reg:squarederror.\n",
            "[15:25:03] WARNING: /workspace/src/objective/regression_obj.cu:152: reg:linear is now deprecated in favor of reg:squarederror.\n",
            "[15:25:03] WARNING: /workspace/src/objective/regression_obj.cu:152: reg:linear is now deprecated in favor of reg:squarederror.\n",
            "[15:25:03] WARNING: /workspace/src/objective/regression_obj.cu:152: reg:linear is now deprecated in favor of reg:squarederror.\n",
            "[15:25:03] WARNING: /workspace/src/objective/regression_obj.cu:152: reg:linear is now deprecated in favor of reg:squarederror.\n",
            "Appending to results...\n",
            "Result XGBOOST: 6.668229 (1.626200)\n"
          ],
          "name": "stdout"
        }
      ]
    },
    {
      "cell_type": "markdown",
      "metadata": {
        "id": "lQgi6bMqImRT"
      },
      "source": [
        "#### Findings: \n",
        "- Result Random Forest: 6.795584 \n",
        "- Result XGBOOST: 6.668229 (1.626200)"
      ]
    },
    {
      "cell_type": "markdown",
      "metadata": {
        "id": "rDjwNm9KBvIg"
      },
      "source": [
        "## 5.2 Randomized Grid search - XGBOOST \n",
        "- https://medium.com/@hiepnguyen034/improving-neural-networks-performance-with-bayesian-optimization-efbaa801ad26"
      ]
    },
    {
      "cell_type": "code",
      "metadata": {
        "id": "_K3fce4RBvIg"
      },
      "source": [
        "seed = 0 \n",
        "X = df.drop('fare_amount',axis=1 )\n",
        "y = df.fare_amount\n",
        "\n",
        "# Standard params\n",
        "from scipy.stats import uniform\n",
        "from sklearn.model_selection import RandomizedSearchCV, cross_val_score\n",
        "from xgboost import XGBRegressor\n",
        "\n",
        "xgb = XGBRegressor(random_state = seed  , silent=True)\n",
        "\n",
        "params = {\"learning_rate\": uniform(0, 1),\n",
        "              \"gamma\": uniform(0, 5),\n",
        "              \"max_depth\": range(1,50),\n",
        "              \"n_estimators\": range(1,300),\n",
        "              \"min_child_weight\": range(1,10)}\n",
        "\n",
        "random_grid =  RandomizedSearchCV(xgb ,param_distributions = params ,scoring ='neg_mean_squared_error', n_iter = 25)\n",
        "random_grid.fit(X,y)\n",
        "\n",
        "y_rs = np.maximum.accumulate(random_grid.cv_results_['mean_test_score'])"
      ],
      "execution_count": 61,
      "outputs": []
    },
    {
      "cell_type": "code",
      "metadata": {
        "id": "fx_3scPtBvIg"
      },
      "source": [
        "y_rs"
      ],
      "execution_count": null,
      "outputs": []
    },
    {
      "cell_type": "markdown",
      "metadata": {
        "id": "9iAYOJsMBvIg"
      },
      "source": [
        "## 5.3  Bayesian Optimization - XGBOOST "
      ]
    },
    {
      "cell_type": "code",
      "metadata": {
        "colab": {
          "base_uri": "https://localhost:8080/"
        },
        "id": "We3mC6eIuYr3",
        "outputId": "99d76735-55a2-48b6-9769-0e88a1f90ad3"
      },
      "source": [
        "! pip install GPyOpt"
      ],
      "execution_count": 62,
      "outputs": [
        {
          "output_type": "stream",
          "text": [
            "Collecting GPyOpt\n",
            "\u001b[?25l  Downloading https://files.pythonhosted.org/packages/52/be/669d505416d7e465b2aef7df3b58d590f56468c4f7dc50c91fe91b8a78d9/GPyOpt-1.2.6.tar.gz (56kB)\n",
            "\r\u001b[K     |█████▊                          | 10kB 12.3MB/s eta 0:00:01\r\u001b[K     |███████████▌                    | 20kB 16.7MB/s eta 0:00:01\r\u001b[K     |█████████████████▎              | 30kB 9.5MB/s eta 0:00:01\r\u001b[K     |███████████████████████         | 40kB 7.6MB/s eta 0:00:01\r\u001b[K     |████████████████████████████▉   | 51kB 4.3MB/s eta 0:00:01\r\u001b[K     |████████████████████████████████| 61kB 3.2MB/s \n",
            "\u001b[?25hRequirement already satisfied: numpy>=1.7 in /usr/local/lib/python3.6/dist-packages (from GPyOpt) (1.18.5)\n",
            "Requirement already satisfied: scipy>=0.16 in /usr/local/lib/python3.6/dist-packages (from GPyOpt) (1.4.1)\n",
            "Collecting GPy>=1.8\n",
            "\u001b[?25l  Downloading https://files.pythonhosted.org/packages/67/95/976598f98adbfa918a480cb2d643f93fb555ca5b6c5614f76b69678114c1/GPy-1.9.9.tar.gz (995kB)\n",
            "\u001b[K     |████████████████████████████████| 1.0MB 5.8MB/s \n",
            "\u001b[?25hRequirement already satisfied: six in /usr/local/lib/python3.6/dist-packages (from GPy>=1.8->GPyOpt) (1.15.0)\n",
            "Collecting paramz>=0.9.0\n",
            "\u001b[?25l  Downloading https://files.pythonhosted.org/packages/d8/37/4abbeb78d30f20d3402887f46e6e9f3ef32034a9dea65d243654c82c8553/paramz-0.9.5.tar.gz (71kB)\n",
            "\u001b[K     |████████████████████████████████| 71kB 6.9MB/s \n",
            "\u001b[?25hRequirement already satisfied: decorator>=4.0.10 in /usr/local/lib/python3.6/dist-packages (from paramz>=0.9.0->GPy>=1.8->GPyOpt) (4.4.2)\n",
            "Building wheels for collected packages: GPyOpt, GPy, paramz\n",
            "  Building wheel for GPyOpt (setup.py) ... \u001b[?25l\u001b[?25hdone\n",
            "  Created wheel for GPyOpt: filename=GPyOpt-1.2.6-cp36-none-any.whl size=83622 sha256=e01c6d5eab4c4ace86f354648b7e600e405f435e2cd06244ed1bf99f8fd1984f\n",
            "  Stored in directory: /root/.cache/pip/wheels/b2/00/69/cfa967a125cf25e66f644be6193ad6f0edf231147879ad714f\n",
            "  Building wheel for GPy (setup.py) ... \u001b[?25l\u001b[?25hdone\n",
            "  Created wheel for GPy: filename=GPy-1.9.9-cp36-cp36m-linux_x86_64.whl size=2633939 sha256=d4640b53ea99d514bd25c96ce37ec0088c812f608baa8f4133f54148dd596d16\n",
            "  Stored in directory: /root/.cache/pip/wheels/5d/36/66/2b58860c84c9f2b51615da66bfd6feeddbc4e04d887ff96dfa\n",
            "  Building wheel for paramz (setup.py) ... \u001b[?25l\u001b[?25hdone\n",
            "  Created wheel for paramz: filename=paramz-0.9.5-cp36-none-any.whl size=102551 sha256=10feb70b4e8f2bd679ca880f5b8a5a878d16624907d47ed2f4ba1bc4caa94398\n",
            "  Stored in directory: /root/.cache/pip/wheels/c8/4a/0e/6e0dc85541825f991c431619e25b870d4b812c911214690cf8\n",
            "Successfully built GPyOpt GPy paramz\n",
            "Installing collected packages: paramz, GPy, GPyOpt\n",
            "Successfully installed GPy-1.9.9 GPyOpt-1.2.6 paramz-0.9.5\n"
          ],
          "name": "stdout"
        }
      ]
    },
    {
      "cell_type": "code",
      "metadata": {
        "id": "YfloYkMEBvIg"
      },
      "source": [
        "\n",
        "from GPyOpt.methods import BayesianOptimization\n",
        "# 1 params \n",
        "bds = [{'name': 'learning_rate', 'type': 'continuous', 'domain': (0, 1)},\n",
        "        {'name': 'gamma', 'type': 'continuous', 'domain': (0, 5)},\n",
        "        {'name': 'max_depth', 'type': 'discrete', 'domain': (1, 50)},\n",
        "        {'name': 'n_estimators', 'type': 'discrete', 'domain': (1, 300)},\n",
        "        {'name': 'min_child_weight', 'type': 'discrete', 'domain': (1, 10)}]\n",
        "\n",
        "# 2 Obtain the cv score- Optimization objective \n",
        "\n",
        "def cv_score(parameters):\n",
        "    parameters = parameters[0]\n",
        "    xgb = XGBRegressor(learning_rate=parameters[0],\n",
        "                              gamma=int(parameters[1]),\n",
        "                              max_depth=int(parameters[2]),\n",
        "                              n_estimators=int(parameters[3]),\n",
        "                              min_child_weight = parameters[4], silent= True , random_state = seed )# Set silent to True to remove the warnings  \n",
        "    score = cross_val_score(\n",
        "               xgb , \n",
        "                X, y, scoring='neg_mean_squared_error').mean()\n",
        "    score = np.array(score)\n",
        "    return score\n",
        "\n",
        "# 3 Obtain the cv score\n",
        "\n",
        "optimizer = BayesianOptimization(f=cv_score, \n",
        "                                 domain=bds,\n",
        "                                 model_type='GP',\n",
        "                                 acquisition_type ='EI',\n",
        "                                 acquisition_jitter = 0.05,\n",
        "                                 exact_feval=True, \n",
        "                                 maximize=True)\n",
        "\n",
        "# Only 20 iterations because we have 5 initial random points\n",
        "optimizer.run_optimization(max_iter = 20)"
      ],
      "execution_count": 63,
      "outputs": []
    },
    {
      "cell_type": "code",
      "metadata": {
        "id": "rxVa6ixcBvIg"
      },
      "source": [
        "y_bo = np.maximum.accumulate(-optimizer.Y).ravel()"
      ],
      "execution_count": 64,
      "outputs": []
    },
    {
      "cell_type": "code",
      "metadata": {
        "id": "oV7qYnqpBvIg",
        "colab": {
          "base_uri": "https://localhost:8080/"
        },
        "outputId": "02a4f494-a9bf-4c97-f09a-79c4277b7556"
      },
      "source": [
        "print(f'Random search neg. MSE = {y_rs[-1]:.2f}')\n",
        "print(f'Bayesian optimization neg. MSE = {y_bo[-1]:.2f}')"
      ],
      "execution_count": 65,
      "outputs": [
        {
          "output_type": "stream",
          "text": [
            "Random search neg. MSE = -6.95\n",
            "Bayesian optimization neg. MSE = -8.12\n"
          ],
          "name": "stdout"
        }
      ]
    },
    {
      "cell_type": "markdown",
      "metadata": {
        "id": "iGd8ylmRVmfc"
      },
      "source": [
        "Observe how the bayesian otimization  improves"
      ]
    },
    {
      "cell_type": "code",
      "metadata": {
        "id": "Ug54yXf8BvIg",
        "colab": {
          "base_uri": "https://localhost:8080/",
          "height": 295
        },
        "outputId": "0657b50a-6bde-467a-f4f2-dc7d5eb50c1f"
      },
      "source": [
        "plt.plot(y_rs, 'ro-', label='Random search')\n",
        "plt.plot(y_bo, 'bo-', label='Bayesian optimization')\n",
        "plt.xlabel('Iteration')\n",
        "plt.ylabel('Neg. MSE')\n",
        "#plt.ylim(-5000, -3000)\n",
        "plt.title('Value of the best sampled CV score');\n",
        "plt.legend();"
      ],
      "execution_count": 66,
      "outputs": [
        {
          "output_type": "display_data",
          "data": {
            "image/png": "[encoded data removed]",
            "text/plain": [
              "<Figure size 432x288 with 1 Axes>"
            ]
          },
          "metadata": {
            "tags": []
          }
        }
      ]
    },
    {
      "cell_type": "markdown",
      "metadata": {
        "id": "PFUoGWCNGFXL"
      },
      "source": [
        "It might happen that one method outperforms another (here https://arimo.com/data-science/2016/bayesian-optimization-hyperparameter-tuning/ people compare Bayesian hyperparameter optimization and achieve a better result on the San Francisco crime kaggle challenge than with random search), however I doubt that there is a general rule for that. You can see a nice gif here (http://blog.revolutionanalytics.com/2016/06/bayesian-optimization-of-machine-learning-models.html) where people show the 'path' that Bayesian optimization takes in the landscape of hyperparameters, in particular, it does not seem as if it outperforms random search in general."
      ]
    },
    {
      "cell_type": "markdown",
      "metadata": {
        "id": "HyIDiHmKBvIg"
      },
      "source": [
        "# 6. Artificial Neural networks\n",
        "Best score: 7.335333663634385 using TPOP REGRESSOR  \n",
        "\n",
        "Score with 30 000 records MSE 5.9721446972614665\n"
      ]
    },
    {
      "cell_type": "code",
      "metadata": {
        "id": "HExdtk13BvIg"
      },
      "source": [
        "from tensorflow.keras.models import Sequential\n",
        "from tensorflow.keras.layers import Dense \n",
        "from tensorflow.keras.layers import Dropout"
      ],
      "execution_count": 168,
      "outputs": []
    },
    {
      "cell_type": "code",
      "metadata": {
        "id": "kQzXi7GHBvIg"
      },
      "source": [
        "# train , valid splits \n",
        "X_train , X_valid , y_test , y_valid= train_test_split(X,y, test_size = 0.3, random_state= seed )"
      ],
      "execution_count": 169,
      "outputs": []
    },
    {
      "cell_type": "code",
      "metadata": {
        "id": "0cuLLWW7BvIg",
        "colab": {
          "base_uri": "https://localhost:8080/"
        },
        "outputId": "3a151c0e-a9cc-4c47-de25-174bf3bb8752"
      },
      "source": [
        "model = Sequential()\n",
        "# We will use normal as initialization technique \n",
        "model.add(Dense(128, kernel_initializer = 'normal', input_dim = X_train.shape[1] , activation = 'relu' )) # I will use relu activation function for all the nodes\n",
        "\n",
        "# Hidden layers\n",
        "model.add(Dense(256, kernel_initializer = 'normal',activation = 'relu' )) # we could also use leaky relu but we would need to tune the model\n",
        "model.add(Dense(256, kernel_initializer = 'normal',activation = 'relu' )) \n",
        "model.add(Dense(256, kernel_initializer = 'normal',activation = 'relu' )) \n",
        "\n",
        "# Output Layer \n",
        "model.add(Dense(1, kernel_initializer = 'normal',activation = 'linear' )) # we use linear fo regression problems  \n",
        "\n",
        "# Compile\n",
        "model.compile(loss = 'mean_squared_error' , optimizer ='adam' , metrics=['mean_squared_error'] )\n",
        "\n",
        "model.summary()\n",
        "\n"
      ],
      "execution_count": 170,
      "outputs": [
        {
          "output_type": "stream",
          "text": [
            "Model: \"sequential_1\"\n",
            "_________________________________________________________________\n",
            "Layer (type)                 Output Shape              Param #   \n",
            "=================================================================\n",
            "dense_5 (Dense)              (None, 128)               1792      \n",
            "_________________________________________________________________\n",
            "dense_6 (Dense)              (None, 256)               33024     \n",
            "_________________________________________________________________\n",
            "dense_7 (Dense)              (None, 256)               65792     \n",
            "_________________________________________________________________\n",
            "dense_8 (Dense)              (None, 256)               65792     \n",
            "_________________________________________________________________\n",
            "dense_9 (Dense)              (None, 1)                 257       \n",
            "=================================================================\n",
            "Total params: 166,657\n",
            "Trainable params: 166,657\n",
            "Non-trainable params: 0\n",
            "_________________________________________________________________\n"
          ],
          "name": "stdout"
        }
      ]
    },
    {
      "cell_type": "code",
      "metadata": {
        "id": "sZmuhqpYvf4r",
        "colab": {
          "base_uri": "https://localhost:8080/"
        },
        "outputId": "ed7ed81b-dbaf-41f7-eafb-c912de1087f3"
      },
      "source": [
        "model.fit(X_valid, y_valid,  validation_split =0.33 , batch_size = 10 , epochs = 40 )"
      ],
      "execution_count": 171,
      "outputs": [
        {
          "output_type": "stream",
          "text": [
            "Epoch 1/40\n",
            "603/603 [==============================] - 2s 3ms/step - loss: 16.5669 - mean_squared_error: 16.5669 - val_loss: 8.9233 - val_mean_squared_error: 8.9233\n",
            "Epoch 2/40\n",
            "603/603 [==============================] - 2s 3ms/step - loss: 11.1006 - mean_squared_error: 11.1006 - val_loss: 9.2116 - val_mean_squared_error: 9.2116\n",
            "Epoch 3/40\n",
            "603/603 [==============================] - 2s 3ms/step - loss: 10.8755 - mean_squared_error: 10.8755 - val_loss: 9.8784 - val_mean_squared_error: 9.8784\n",
            "Epoch 4/40\n",
            "603/603 [==============================] - 2s 3ms/step - loss: 10.4840 - mean_squared_error: 10.4840 - val_loss: 10.1330 - val_mean_squared_error: 10.1330\n",
            "Epoch 5/40\n",
            "603/603 [==============================] - 2s 3ms/step - loss: 10.4098 - mean_squared_error: 10.4098 - val_loss: 10.0541 - val_mean_squared_error: 10.0541\n",
            "Epoch 6/40\n",
            "603/603 [==============================] - 2s 3ms/step - loss: 10.2768 - mean_squared_error: 10.2768 - val_loss: 9.6801 - val_mean_squared_error: 9.6801\n",
            "Epoch 7/40\n",
            "603/603 [==============================] - 2s 3ms/step - loss: 9.6940 - mean_squared_error: 9.6940 - val_loss: 8.2891 - val_mean_squared_error: 8.2891\n",
            "Epoch 8/40\n",
            "603/603 [==============================] - 2s 3ms/step - loss: 9.9478 - mean_squared_error: 9.9478 - val_loss: 8.3031 - val_mean_squared_error: 8.3031\n",
            "Epoch 9/40\n",
            "603/603 [==============================] - 2s 3ms/step - loss: 9.4977 - mean_squared_error: 9.4977 - val_loss: 8.2401 - val_mean_squared_error: 8.2401\n",
            "Epoch 10/40\n",
            "603/603 [==============================] - 2s 3ms/step - loss: 9.7651 - mean_squared_error: 9.7651 - val_loss: 11.3002 - val_mean_squared_error: 11.3002\n",
            "Epoch 11/40\n",
            "603/603 [==============================] - 2s 3ms/step - loss: 9.4327 - mean_squared_error: 9.4327 - val_loss: 9.0373 - val_mean_squared_error: 9.0373\n",
            "Epoch 12/40\n",
            "603/603 [==============================] - 2s 3ms/step - loss: 9.9171 - mean_squared_error: 9.9171 - val_loss: 8.1106 - val_mean_squared_error: 8.1106\n",
            "Epoch 13/40\n",
            "603/603 [==============================] - 2s 3ms/step - loss: 9.4756 - mean_squared_error: 9.4756 - val_loss: 8.0600 - val_mean_squared_error: 8.0600\n",
            "Epoch 14/40\n",
            "603/603 [==============================] - 2s 3ms/step - loss: 9.2907 - mean_squared_error: 9.2907 - val_loss: 8.2132 - val_mean_squared_error: 8.2132\n",
            "Epoch 15/40\n",
            "603/603 [==============================] - 2s 3ms/step - loss: 8.9441 - mean_squared_error: 8.9441 - val_loss: 8.4640 - val_mean_squared_error: 8.4640\n",
            "Epoch 16/40\n",
            "603/603 [==============================] - 2s 3ms/step - loss: 9.0292 - mean_squared_error: 9.0292 - val_loss: 7.7051 - val_mean_squared_error: 7.7051\n",
            "Epoch 17/40\n",
            "603/603 [==============================] - 2s 3ms/step - loss: 8.9530 - mean_squared_error: 8.9530 - val_loss: 12.4211 - val_mean_squared_error: 12.4211\n",
            "Epoch 18/40\n",
            "603/603 [==============================] - 2s 3ms/step - loss: 8.7426 - mean_squared_error: 8.7426 - val_loss: 8.9214 - val_mean_squared_error: 8.9214\n",
            "Epoch 19/40\n",
            "603/603 [==============================] - 2s 3ms/step - loss: 8.6802 - mean_squared_error: 8.6802 - val_loss: 10.1987 - val_mean_squared_error: 10.1987\n",
            "Epoch 20/40\n",
            "603/603 [==============================] - 2s 3ms/step - loss: 8.3114 - mean_squared_error: 8.3114 - val_loss: 7.4568 - val_mean_squared_error: 7.4568\n",
            "Epoch 21/40\n",
            "603/603 [==============================] - 2s 3ms/step - loss: 8.1524 - mean_squared_error: 8.1524 - val_loss: 7.7026 - val_mean_squared_error: 7.7026\n",
            "Epoch 22/40\n",
            "603/603 [==============================] - 2s 3ms/step - loss: 8.4254 - mean_squared_error: 8.4254 - val_loss: 7.8419 - val_mean_squared_error: 7.8419\n",
            "Epoch 23/40\n",
            "603/603 [==============================] - 2s 3ms/step - loss: 8.0745 - mean_squared_error: 8.0745 - val_loss: 8.1373 - val_mean_squared_error: 8.1373\n",
            "Epoch 24/40\n",
            "603/603 [==============================] - 2s 3ms/step - loss: 8.1443 - mean_squared_error: 8.1443 - val_loss: 9.5308 - val_mean_squared_error: 9.5308\n",
            "Epoch 25/40\n",
            "603/603 [==============================] - 2s 3ms/step - loss: 7.9103 - mean_squared_error: 7.9103 - val_loss: 10.2364 - val_mean_squared_error: 10.2364\n",
            "Epoch 26/40\n",
            "603/603 [==============================] - 2s 3ms/step - loss: 7.7675 - mean_squared_error: 7.7675 - val_loss: 7.9437 - val_mean_squared_error: 7.9437\n",
            "Epoch 27/40\n",
            "603/603 [==============================] - 2s 3ms/step - loss: 8.0148 - mean_squared_error: 8.0148 - val_loss: 8.0090 - val_mean_squared_error: 8.0090\n",
            "Epoch 28/40\n",
            "603/603 [==============================] - 2s 3ms/step - loss: 7.6611 - mean_squared_error: 7.6611 - val_loss: 7.6887 - val_mean_squared_error: 7.6887\n",
            "Epoch 29/40\n",
            "603/603 [==============================] - 2s 3ms/step - loss: 7.7944 - mean_squared_error: 7.7944 - val_loss: 7.5928 - val_mean_squared_error: 7.5928\n",
            "Epoch 30/40\n",
            "603/603 [==============================] - 2s 3ms/step - loss: 7.3223 - mean_squared_error: 7.3223 - val_loss: 8.1316 - val_mean_squared_error: 8.1316\n",
            "Epoch 31/40\n",
            "603/603 [==============================] - 2s 3ms/step - loss: 7.4941 - mean_squared_error: 7.4941 - val_loss: 7.2110 - val_mean_squared_error: 7.2110\n",
            "Epoch 32/40\n",
            "603/603 [==============================] - 2s 3ms/step - loss: 7.5772 - mean_squared_error: 7.5772 - val_loss: 7.6532 - val_mean_squared_error: 7.6532\n",
            "Epoch 33/40\n",
            "603/603 [==============================] - 2s 3ms/step - loss: 7.5255 - mean_squared_error: 7.5255 - val_loss: 7.7010 - val_mean_squared_error: 7.7010\n",
            "Epoch 34/40\n",
            "603/603 [==============================] - 2s 3ms/step - loss: 7.5211 - mean_squared_error: 7.5211 - val_loss: 8.6242 - val_mean_squared_error: 8.6242\n",
            "Epoch 35/40\n",
            "603/603 [==============================] - 2s 3ms/step - loss: 7.5897 - mean_squared_error: 7.5897 - val_loss: 7.3914 - val_mean_squared_error: 7.3914\n",
            "Epoch 36/40\n",
            "603/603 [==============================] - 2s 3ms/step - loss: 7.3044 - mean_squared_error: 7.3044 - val_loss: 7.8395 - val_mean_squared_error: 7.8395\n",
            "Epoch 37/40\n",
            "603/603 [==============================] - 2s 3ms/step - loss: 7.2119 - mean_squared_error: 7.2119 - val_loss: 7.2092 - val_mean_squared_error: 7.2092\n",
            "Epoch 38/40\n",
            "603/603 [==============================] - 2s 3ms/step - loss: 7.2922 - mean_squared_error: 7.2922 - val_loss: 7.4215 - val_mean_squared_error: 7.4215\n",
            "Epoch 39/40\n",
            "603/603 [==============================] - 2s 3ms/step - loss: 7.2404 - mean_squared_error: 7.2404 - val_loss: 7.7330 - val_mean_squared_error: 7.7330\n",
            "Epoch 40/40\n",
            "603/603 [==============================] - 2s 3ms/step - loss: 7.1949 - mean_squared_error: 7.1949 - val_loss: 7.6568 - val_mean_squared_error: 7.6568\n"
          ],
          "name": "stdout"
        },
        {
          "output_type": "execute_result",
          "data": {
            "text/plain": [
              "<tensorflow.python.keras.callbacks.History at 0x7fe7c4a7e518>"
            ]
          },
          "metadata": {
            "tags": []
          },
          "execution_count": 171
        }
      ]
    },
    {
      "cell_type": "markdown",
      "metadata": {
        "id": "drljLHEZFCli"
      },
      "source": [
        "## 6.1 Model evaluation \n"
      ]
    },
    {
      "cell_type": "code",
      "metadata": {
        "id": "5f0yH4NWBvIg",
        "colab": {
          "base_uri": "https://localhost:8080/",
          "height": 386
        },
        "outputId": "1de11b40-0c8c-4988-d6d9-41d8f3689705"
      },
      "source": [
        "import seaborn as sns\n",
        "\n",
        "prediction = model.predict(X_valid)\n",
        "\n",
        "print(sns.displot(y_valid.values.reshape(-1,1) - prediction ) )"
      ],
      "execution_count": 172,
      "outputs": [
        {
          "output_type": "stream",
          "text": [
            "<seaborn.axisgrid.FacetGrid object at 0x7fe7c406fac8>\n"
          ],
          "name": "stdout"
        },
        {
          "output_type": "display_data",
          "data": {
            "image/png": "[encoded data removed]",
            "text/plain": [
              "<Figure size 402.25x360 with 1 Axes>"
            ]
          },
          "metadata": {
            "tags": []
          }
        }
      ]
    },
    {
      "cell_type": "code",
      "metadata": {
        "id": "WPy-INHSGF2U",
        "colab": {
          "base_uri": "https://localhost:8080/"
        },
        "outputId": "51623fec-6ea5-474c-9bb7-d9e89dd10be6"
      },
      "source": [
        "from sklearn.metrics import mean_squared_error , mean_absolute_error \n",
        "\n",
        "print(f' Mean squared error {mean_squared_error(y_valid, prediction)}' )\n",
        "print(f' Mean absolute error {mean_absolute_error(y_valid, prediction)}' )\n",
        "\n",
        "# 20 epochs \n",
        "\n",
        "#Mean squared error 9.683787394397097\n",
        "#Mean absolute error 1.5232585242843628\n",
        "\n",
        "# 40 epochs \n",
        "#Mean squared error 9.069073109835461\n",
        "\n",
        "# 40 epochs /30000 records \n",
        "# Mean squared error 7.05731604455969"
      ],
      "execution_count": 173,
      "outputs": [
        {
          "output_type": "stream",
          "text": [
            " Mean squared error 7.05731604455969\n",
            " Mean absolute error 1.4871519275781844\n"
          ],
          "name": "stdout"
        }
      ]
    },
    {
      "cell_type": "markdown",
      "metadata": {
        "id": "a-pezGp3X6e3"
      },
      "source": [
        "Lets try to find the best parameters"
      ]
    },
    {
      "cell_type": "markdown",
      "metadata": {
        "id": "D_gGmOwDWOY5"
      },
      "source": [
        "## 6.2 Hyperparam tuning\n"
      ]
    },
    {
      "cell_type": "code",
      "metadata": {
        "id": "ECICgTt8W3st"
      },
      "source": [
        "from keras.wrappers.scikit_learn import KerasRegressor\n",
        "\n",
        "# create the model \n",
        "def create_model():\n",
        "  \"\"\"\n",
        "  NN architecture \n",
        "  \"\"\"\n",
        "  model = Sequential()\n",
        "  model.add(Dense(128, kernel_initializer = 'normal', input_dim = X_train.shape[1] , activation = 'relu' )) # I will use relu activation function for all the nodes\n",
        "  # Hidden layers\n",
        "  model.add(Dense(256, kernel_initializer = 'normal',activation = 'relu' )) # we could also use leaky relu but we would need to tune the model\n",
        "  model.add(Dense(256, kernel_initializer = 'normal',activation = 'relu' )) \n",
        "  model.add(Dense(256, kernel_initializer = 'normal',activation = 'relu' )) \n",
        "  # Output Layer \n",
        "  model.add(Dense(1, kernel_initializer = 'normal',activation = 'linear' )) # we use linear fo regression problems  \n",
        "  # Compile\n",
        "  model.compile(loss = 'mean_squared_error' , optimizer ='adam' , metrics=['mean_squared_error'] )\n",
        "  return model \n",
        "\n",
        "# put on kerasregressor \n",
        "model = KerasRegressor(build_fn = create_model, verbose = 0  )\n",
        "\n"
      ],
      "execution_count": 37,
      "outputs": []
    },
    {
      "cell_type": "code",
      "metadata": {
        "id": "mCZzVBoDZx1j"
      },
      "source": [
        "# This is taking very long consider chaing to TPU \n",
        "\n",
        "# define batch size and epcohs \n",
        "batch_size = [10, 20, 40, 60, 80, 100]\n",
        "epochs = [10, 50, 100]\n",
        "param_grid = dict(batch_size=batch_size, epochs=epochs)\n",
        "grid = GridSearchCV(estimator=model, param_grid=param_grid, n_jobs=-1, cv=5)\n",
        "grid_result = grid.fit(X.values, y.values )\n"
      ],
      "execution_count": 173,
      "outputs": []
    },
    {
      "cell_type": "code",
      "metadata": {
        "colab": {
          "base_uri": "https://localhost:8080/"
        },
        "id": "tCHrdQMdaADh",
        "outputId": "15e0dd41-e8f2-49d5-d2d5-9f2e12291ac0"
      },
      "source": [
        "# summarize results\n",
        "print(\"Best: %f using %s\" % (grid_result.best_score_, grid_result.best_params_))\n",
        "means = grid_result.cv_results_['mean_test_score']\n",
        "stds = grid_result.cv_results_['std_test_score']\n",
        "params = grid_result.cv_results_['params']\n",
        "for mean, stdev, param in zip(means, stds, params):\n",
        "    print(\"%f (%f) with: %r\" % (mean, stdev, param))\n",
        "\n",
        "# Test the model with tuned params "
      ],
      "execution_count": 174,
      "outputs": [
        {
          "output_type": "stream",
          "text": [
            "Best: -7.375117 using {'batch_size': 20, 'epochs': 50}\n",
            "-8.335835 (1.313411) with: {'batch_size': 10, 'epochs': 10}\n",
            "-7.708182 (2.045469) with: {'batch_size': 10, 'epochs': 50}\n",
            "-7.840468 (2.415734) with: {'batch_size': 10, 'epochs': 100}\n",
            "-8.508542 (1.329013) with: {'batch_size': 20, 'epochs': 10}\n",
            "-7.375117 (2.096263) with: {'batch_size': 20, 'epochs': 50}\n",
            "-7.514588 (2.184784) with: {'batch_size': 20, 'epochs': 100}\n",
            "-9.011900 (1.283214) with: {'batch_size': 40, 'epochs': 10}\n",
            "-7.503144 (1.434223) with: {'batch_size': 40, 'epochs': 50}\n",
            "-7.650668 (1.588610) with: {'batch_size': 40, 'epochs': 100}\n",
            "-8.581600 (1.394508) with: {'batch_size': 60, 'epochs': 10}\n",
            "-7.385262 (1.624646) with: {'batch_size': 60, 'epochs': 50}\n",
            "-7.605318 (2.058633) with: {'batch_size': 60, 'epochs': 100}\n",
            "-8.498437 (1.094798) with: {'batch_size': 80, 'epochs': 10}\n",
            "-7.574903 (1.565402) with: {'batch_size': 80, 'epochs': 50}\n",
            "-7.849353 (2.162563) with: {'batch_size': 80, 'epochs': 100}\n",
            "-8.357436 (1.592923) with: {'batch_size': 100, 'epochs': 10}\n",
            "-7.568000 (1.565994) with: {'batch_size': 100, 'epochs': 50}\n",
            "-7.674760 (2.066486) with: {'batch_size': 100, 'epochs': 100}\n"
          ],
          "name": "stdout"
        }
      ]
    },
    {
      "cell_type": "markdown",
      "metadata": {
        "id": "5UYEyb2AdorA"
      },
      "source": [
        "### Findings\n",
        "- We could improve the score but xgboost model is still the best score"
      ]
    },
    {
      "cell_type": "markdown",
      "metadata": {
        "id": "xtbSOp6iHV1F"
      },
      "source": [
        "## 6.3 TPOT regressor \n",
        "-7.45191217933125  \n",
        "-5.9721446972614665 30 000 records\n",
        "TPOT is an open-source library for performing AutoML in Python. It makes use *of the popular Scikit-Learn machine learning library for data transforms and machine learning algorithms and uses a Genetic Programming stochastic global search procedure to efficiently discover a top-performing model pipeline for a given dataset.*\n",
        "\n",
        "More Info: https://machinelearningmastery.com/tpot-for-automated-machine-learning-in-python/ \n",
        "\n",
        "\n",
        "We will use TPOT regressor for genetical algorithms. We will create a n number of iterations \n"
      ]
    },
    {
      "cell_type": "code",
      "metadata": {
        "colab": {
          "base_uri": "https://localhost:8080/"
        },
        "id": "Lc6xdmccdIeb",
        "outputId": "aff1e9e9-80d1-4fca-d436-4b93e702564b"
      },
      "source": [
        "! pip install tpot"
      ],
      "execution_count": 174,
      "outputs": [
        {
          "output_type": "stream",
          "text": [
            "Requirement already satisfied: tpot in /usr/local/lib/python3.6/dist-packages (0.11.6.post1)\n",
            "Requirement already satisfied: scikit-learn>=0.22.0 in /usr/local/lib/python3.6/dist-packages (from tpot) (0.22.2.post1)\n",
            "Requirement already satisfied: pandas>=0.24.2 in /usr/local/lib/python3.6/dist-packages (from tpot) (1.1.4)\n",
            "Requirement already satisfied: joblib>=0.13.2 in /usr/local/lib/python3.6/dist-packages (from tpot) (0.17.0)\n",
            "Requirement already satisfied: deap>=1.2 in /usr/local/lib/python3.6/dist-packages (from tpot) (1.3.1)\n",
            "Requirement already satisfied: stopit>=1.1.1 in /usr/local/lib/python3.6/dist-packages (from tpot) (1.1.2)\n",
            "Requirement already satisfied: scipy>=1.3.1 in /usr/local/lib/python3.6/dist-packages (from tpot) (1.4.1)\n",
            "Requirement already satisfied: update-checker>=0.16 in /usr/local/lib/python3.6/dist-packages (from tpot) (0.18.0)\n",
            "Requirement already satisfied: tqdm>=4.36.1 in /usr/local/lib/python3.6/dist-packages (from tpot) (4.41.1)\n",
            "Requirement already satisfied: numpy>=1.16.3 in /usr/local/lib/python3.6/dist-packages (from tpot) (1.18.5)\n",
            "Requirement already satisfied: pytz>=2017.2 in /usr/local/lib/python3.6/dist-packages (from pandas>=0.24.2->tpot) (2018.9)\n",
            "Requirement already satisfied: python-dateutil>=2.7.3 in /usr/local/lib/python3.6/dist-packages (from pandas>=0.24.2->tpot) (2.8.1)\n",
            "Requirement already satisfied: requests>=2.3.0 in /usr/local/lib/python3.6/dist-packages (from update-checker>=0.16->tpot) (2.23.0)\n",
            "Requirement already satisfied: six>=1.5 in /usr/local/lib/python3.6/dist-packages (from python-dateutil>=2.7.3->pandas>=0.24.2->tpot) (1.15.0)\n",
            "Requirement already satisfied: chardet<4,>=3.0.2 in /usr/local/lib/python3.6/dist-packages (from requests>=2.3.0->update-checker>=0.16->tpot) (3.0.4)\n",
            "Requirement already satisfied: idna<3,>=2.5 in /usr/local/lib/python3.6/dist-packages (from requests>=2.3.0->update-checker>=0.16->tpot) (2.10)\n",
            "Requirement already satisfied: certifi>=2017.4.17 in /usr/local/lib/python3.6/dist-packages (from requests>=2.3.0->update-checker>=0.16->tpot) (2020.11.8)\n",
            "Requirement already satisfied: urllib3!=1.25.0,!=1.25.1,<1.26,>=1.21.1 in /usr/local/lib/python3.6/dist-packages (from requests>=2.3.0->update-checker>=0.16->tpot) (1.24.3)\n"
          ],
          "name": "stdout"
        }
      ]
    },
    {
      "cell_type": "code",
      "metadata": {
        "id": "6y7R6qtTGGBT"
      },
      "source": [
        "from tpot import TPOTRegressor "
      ],
      "execution_count": 175,
      "outputs": []
    },
    {
      "cell_type": "code",
      "metadata": {
        "id": "TTWsWqBQGGSb"
      },
      "source": [
        "# Fit Tpot on X and y \n",
        "# regressor = TPOTRegressor()\n",
        "# regressor.fit(X,y)"
      ],
      "execution_count": 176,
      "outputs": []
    },
    {
      "cell_type": "code",
      "metadata": {
        "id": "YmuONmyD_Au0",
        "colab": {
          "base_uri": "https://localhost:8080/",
          "height": 258,
          "referenced_widgets": [
            "253ece52ea774d64b522815b0fe45cbc",
            "0a1e502a4f434e9a99f2dc07dabf0c9b",
            "a86289bfe31c417abde8e9a03cf9ab65",
            "5b968b7365574a2e85e7de6701232cbb",
            "42679552eb5643629c363b66ebf55e4d",
            "ea2cb4efe386457f9c973e6750c6ed45",
            "a3628ec0769b4ed7844581d77be9e654",
            "65b5a9a5bb854ba6877f5816ffd18c9c"
          ]
        },
        "outputId": "e7883605-9b3a-4af2-a956-b433dfa8f32d"
      },
      "source": [
        "# Crete a tpot var\n",
        "# Generation1 : MSE : 8.200143655408343\n",
        "\n",
        "tpot = TPOTRegressor(generations = 5 , population_size = 10 , verbosity = 2, random_state = seed ) # Observe that if we increase our generations we could improve our results \n",
        "tpot.fit(X_train, y_train)\n",
        "print(tpot.score(X_valid,y_valid) )\n",
        "\n",
        "# Export the file \n",
        "tpot.export('tpot_pipeline.py')\n"
      ],
      "execution_count": 177,
      "outputs": [
        {
          "output_type": "display_data",
          "data": {
            "application/vnd.jupyter.widget-view+json": {
              "model_id": "253ece52ea774d64b522815b0fe45cbc",
              "version_minor": 0,
              "version_major": 2
            },
            "text/plain": [
              "HBox(children=(FloatProgress(value=0.0, description='Optimization Progress', max=60.0, style=ProgressStyle(des…"
            ]
          },
          "metadata": {
            "tags": []
          }
        },
        {
          "output_type": "stream",
          "text": [
            "\r\n",
            "Generation 1 - Current best internal CV score: -5.353936261689637\n",
            "\n",
            "Generation 2 - Current best internal CV score: -5.353936261689637\n",
            "\n",
            "Generation 3 - Current best internal CV score: -5.353936261689637\n",
            "\n",
            "Generation 4 - Current best internal CV score: -5.348461704935954\n",
            "\n",
            "Generation 5 - Current best internal CV score: -5.348461704935954\n",
            "\n",
            "Best pipeline: XGBRegressor(AdaBoostRegressor(input_matrix, learning_rate=0.01, loss=square, n_estimators=100), learning_rate=0.1, max_depth=7, min_child_weight=7, n_estimators=100, nthread=1, objective=reg:squarederror, subsample=0.6500000000000001)\n",
            "-6.0161305759919435\n"
          ],
          "name": "stdout"
        }
      ]
    },
    {
      "cell_type": "code",
      "metadata": {
        "id": "VTsFgEV3_AyV"
      },
      "source": [
        "# Here is the output:\n",
        "\n",
        "from sklearn.ensemble import AdaBoostRegressor\n",
        "from sklearn.model_selection import train_test_split\n",
        "from sklearn.pipeline import make_pipeline, make_union\n",
        "from tpot.builtins import StackingEstimator\n",
        "from xgboost import XGBRegressor\n",
        "from tpot.export_utils import set_param_recursive\n",
        "\n",
        "# NOTE: Make sure that the outcome column is labeled 'target' in the data file\n",
        "tpot_data = pd.read_csv('final_data.csv')\n",
        "features = tpot_data.drop('fare_amount', axis=1)\n",
        "training_features, testing_features, training_target, testing_target = \\\n",
        "            train_test_split(features, tpot_data['fare_amount'], random_state=0)\n"
      ],
      "execution_count": 178,
      "outputs": []
    },
    {
      "cell_type": "code",
      "metadata": {
        "id": "tv5ajBjcGF7P"
      },
      "source": [
        "# Average CV score on the training set was: -5.348461704935954\n",
        "exported_pipeline = make_pipeline(\n",
        "    StackingEstimator(estimator=AdaBoostRegressor(learning_rate=0.01, loss=\"square\", n_estimators=100)),\n",
        "    XGBRegressor(learning_rate=0.1, max_depth=7, min_child_weight=7, n_estimators=100, nthread=1, objective=\"reg:squarederror\", subsample=0.6500000000000001)\n",
        ")\n",
        "# Fix random state for all the steps in exported pipeline\n",
        "set_param_recursive(exported_pipeline.steps, 'random_state', 0)\n",
        "\n",
        "exported_pipeline.fit(training_features, training_target)\n",
        "results = exported_pipeline.predict(testing_features)\n"
      ],
      "execution_count": 179,
      "outputs": []
    },
    {
      "cell_type": "code",
      "metadata": {
        "colab": {
          "base_uri": "https://localhost:8080/"
        },
        "id": "0y-_n8clKJF_",
        "outputId": "8515c2d6-8487-4fa0-f5f7-bb742359cacb"
      },
      "source": [
        "results"
      ],
      "execution_count": 180,
      "outputs": [
        {
          "output_type": "execute_result",
          "data": {
            "text/plain": [
              "array([ 7.3963337, 13.874862 ,  9.065026 , ...,  4.3731413,  7.663726 ,\n",
              "       12.337973 ], dtype=float32)"
            ]
          },
          "metadata": {
            "tags": []
          },
          "execution_count": 180
        }
      ]
    },
    {
      "cell_type": "code",
      "metadata": {
        "colab": {
          "base_uri": "https://localhost:8080/",
          "height": 386
        },
        "id": "QVU7K_GpKQSm",
        "outputId": "d4e17be9-720c-4ab6-d1d7-ce40d93c2e64"
      },
      "source": [
        "sns.displot(testing_target.values - results)"
      ],
      "execution_count": 181,
      "outputs": [
        {
          "output_type": "execute_result",
          "data": {
            "text/plain": [
              "<seaborn.axisgrid.FacetGrid at 0x7fe7beb16e80>"
            ]
          },
          "metadata": {
            "tags": []
          },
          "execution_count": 181
        },
        {
          "output_type": "display_data",
          "data": {
            "image/png": "[encoded data removed]",
            "text/plain": [
              "<Figure size 360x360 with 1 Axes>"
            ]
          },
          "metadata": {
            "tags": []
          }
        }
      ]
    },
    {
      "cell_type": "code",
      "metadata": {
        "colab": {
          "base_uri": "https://localhost:8080/",
          "height": 282
        },
        "id": "WrrelTi3KQVw",
        "outputId": "525dd78d-9df0-4c4b-cebb-10bce0e5dbaa"
      },
      "source": [
        "# 10 000 records\n",
        "plt.scatter(testing_target.values,results)"
      ],
      "execution_count": 90,
      "outputs": [
        {
          "output_type": "execute_result",
          "data": {
            "text/plain": [
              "<matplotlib.collections.PathCollection at 0x7fe7c6198e10>"
            ]
          },
          "metadata": {
            "tags": []
          },
          "execution_count": 90
        },
        {
          "output_type": "display_data",
          "data": {
            "image/png": "[encoded data removed]",
            "text/plain": [
              "<Figure size 432x288 with 1 Axes>"
            ]
          },
          "metadata": {
            "tags": []
          }
        }
      ]
    },
    {
      "cell_type": "code",
      "metadata": {
        "colab": {
          "base_uri": "https://localhost:8080/",
          "height": 282
        },
        "id": "_lsRZqWOVBou",
        "outputId": "b469f974-39b8-4262-ab56-1d7a88dc7a52"
      },
      "source": [
        "# 30 000 records\n",
        "plt.scatter(testing_target.values,results)"
      ],
      "execution_count": 182,
      "outputs": [
        {
          "output_type": "execute_result",
          "data": {
            "text/plain": [
              "<matplotlib.collections.PathCollection at 0x7fe7be9d0160>"
            ]
          },
          "metadata": {
            "tags": []
          },
          "execution_count": 182
        },
        {
          "output_type": "display_data",
          "data": {
            "image/png": "[encoded data removed]",
            "text/plain": [
              "<Figure size 432x288 with 1 Axes>"
            ]
          },
          "metadata": {
            "tags": []
          }
        }
      ]
    },
    {
      "cell_type": "code",
      "metadata": {
        "colab": {
          "base_uri": "https://localhost:8080/"
        },
        "id": "L4hVnhxWK0_7",
        "outputId": "f7cc147e-7a01-46bf-d281-1c06ca65494a"
      },
      "source": [
        "from sklearn.metrics import mean_squared_error , mean_absolute_error \n",
        "\n",
        "print(f' Mean squared error {mean_squared_error(testing_target, results)}' )\n",
        "print(f' Mean absolute error {mean_absolute_error(testing_target, results)}' )\n",
        "\n",
        "# 1 generator\n",
        "\n",
        " #Mean squared error 8.200143655408343\n",
        " #Mean absolute error 1.4633068777304956\n",
        "\n",
        "\n",
        " # 5 generators\n",
        "\n",
        " #Mean squared error 5.9721446972614665\n",
        " #Mean absolute error 1.2685367023684182"
      ],
      "execution_count": 183,
      "outputs": [
        {
          "output_type": "stream",
          "text": [
            " Mean squared error 5.9721446972614665\n",
            " Mean absolute error 1.2685367023684182\n"
          ],
          "name": "stdout"
        }
      ]
    },
    {
      "cell_type": "markdown",
      "metadata": {
        "id": "k7pM6oysWnpl"
      },
      "source": [
        "## Findings:\n",
        "- Score with 10 000 records: 7.335333663634385 using TPOP REGRESSOR \n",
        "- Score with 30 000 MSE 5.9721446972614665\n",
        "- XGBOOST was still working best\n",
        "- The number of generations will affect the final result \n",
        "- I increased the number of records from 10 000 to 30 000 and saw a significant decrease on MSE"
      ]
    },
    {
      "cell_type": "markdown",
      "metadata": {
        "id": "1nQki2EUvm0w"
      },
      "source": [
        "# 7. Final findings:\n",
        "- Increasing the sample size improved the score by minimising the mean squared error \n",
        "- Numerical transformations such as PCA could reduce the mean squared error\n",
        "- XGboost and Extra tree regressor methods for feature selection gave us similar results \n",
        "- Random Forest Regressor and XGBoost showed similar results with 5 fold cross validation with a smaller error using Random Forest \n",
        "- XGBOOST had a better performance than Random Forest after applying hyper parameter tuning\n",
        "- Increasing the sample size and the number of genreators reduced the error \n",
        "\n",
        "\n",
        " \n",
        "\n",
        "\n",
        "\n",
        "\n"
      ]
    },
    {
      "cell_type": "markdown",
      "metadata": {
        "id": "Abg-hy7gLjhM"
      },
      "source": [
        "# 8. Next steps:\n",
        "- Opt Bayesian optimization"
      ]
    }
  ]
}